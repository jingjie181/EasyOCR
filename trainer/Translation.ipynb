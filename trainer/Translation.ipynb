{
 "cells": [
  {
   "cell_type": "code",
   "execution_count": 1,
   "id": "a88ecc9b-e4a8-4bf2-9ab3-087a1a099618",
   "metadata": {},
   "outputs": [],
   "source": [
    "import os\n",
    "import PIL\n",
    "import re\n",
    "from db import *\n",
    "from PIL import ImageFont\n",
    "from PIL import Image\n",
    "from PIL import ImageDraw\n",
    "from google.cloud import translate_v2 as translate\n",
    "\n",
    "\n",
    "os.environ['GOOGLE_APPLICATION_CREDENTIALS'] = \"C:\\\\Users\\\\joman\\\\anaconda3\\\\envs\\\\ocr2\\\\google_key.json\""
   ]
  },
  {
   "cell_type": "code",
   "execution_count": 2,
   "id": "bc0521f2-81b3-424d-8b06-9cd95a9d96a0",
   "metadata": {},
   "outputs": [
    {
     "name": "stdout",
     "output_type": "stream",
     "text": [
      "สวัสดี\n"
     ]
    }
   ],
   "source": [
    "from google.cloud import translate_v2 as translate\n",
    "translate_client = translate.Client()\n",
    "result = translate_client.translate('hi', target_language='th')\n",
    "print(result[\"translatedText\"])"
   ]
  },
  {
   "cell_type": "markdown",
   "id": "d26c3992-d911-4e13-a045-171accf71e56",
   "metadata": {},
   "source": [
    "## Calling from DB to get raw text data"
   ]
  },
  {
   "cell_type": "code",
   "execution_count": 3,
   "id": "191c7966-504b-4e0e-b7cc-0104e91976a1",
   "metadata": {},
   "outputs": [
    {
     "data": {
      "text/html": [
       "<div>\n",
       "<style scoped>\n",
       "    .dataframe tbody tr th:only-of-type {\n",
       "        vertical-align: middle;\n",
       "    }\n",
       "\n",
       "    .dataframe tbody tr th {\n",
       "        vertical-align: top;\n",
       "    }\n",
       "\n",
       "    .dataframe thead th {\n",
       "        text-align: right;\n",
       "    }\n",
       "</style>\n",
       "<table border=\"1\" class=\"dataframe\">\n",
       "  <thead>\n",
       "    <tr style=\"text-align: right;\">\n",
       "      <th></th>\n",
       "      <th>raw_text</th>\n",
       "    </tr>\n",
       "  </thead>\n",
       "  <tbody>\n",
       "    <tr>\n",
       "      <th>0</th>\n",
       "      <td>FRANKIE'S NY WINGS INC.\\nOwned &amp; Optd by: Fran...</td>\n",
       "    </tr>\n",
       "    <tr>\n",
       "      <th>1</th>\n",
       "      <td>FRANKIE'S NY WINGS INC.\\nOwned &amp; Optd by: Fran...</td>\n",
       "    </tr>\n",
       "    <tr>\n",
       "      <th>2</th>\n",
       "      <td>FRANKIE'S NY WINGS INC.\\nOwned &amp; Optd by: Fran...</td>\n",
       "    </tr>\n",
       "    <tr>\n",
       "      <th>3</th>\n",
       "      <td>FRANKIE'S NY WINGS INC.\\nOwned &amp; Optd by: Fran...</td>\n",
       "    </tr>\n",
       "    <tr>\n",
       "      <th>4</th>\n",
       "      <td>FRANKIE'S NY WINGS INC.\\nOwned &amp; Optd by: Fran...</td>\n",
       "    </tr>\n",
       "    <tr>\n",
       "      <th>5</th>\n",
       "      <td>FRANKIE'S NY WINGS INC.\\nOwned &amp; Optd by: Fran...</td>\n",
       "    </tr>\n",
       "    <tr>\n",
       "      <th>6</th>\n",
       "      <td>FRANKIE'S NY WINGS INC.\\nOwned &amp; Optd by: Fran...</td>\n",
       "    </tr>\n",
       "    <tr>\n",
       "      <th>7</th>\n",
       "      <td>FRANKIE'S NY WINGS INC.\\nOwned &amp; Optd by: Fran...</td>\n",
       "    </tr>\n",
       "    <tr>\n",
       "      <th>8</th>\n",
       "      <td>FRANKIE'S NY WINGS INC.\\nOwned &amp; Optd by: Fran...</td>\n",
       "    </tr>\n",
       "    <tr>\n",
       "      <th>9</th>\n",
       "      <td>FRANKIE'S NY WINGS INC.\\nOwned &amp; Optd by: Fran...</td>\n",
       "    </tr>\n",
       "  </tbody>\n",
       "</table>\n",
       "</div>"
      ],
      "text/plain": [
       "                                            raw_text\n",
       "0  FRANKIE'S NY WINGS INC.\\nOwned & Optd by: Fran...\n",
       "1  FRANKIE'S NY WINGS INC.\\nOwned & Optd by: Fran...\n",
       "2  FRANKIE'S NY WINGS INC.\\nOwned & Optd by: Fran...\n",
       "3  FRANKIE'S NY WINGS INC.\\nOwned & Optd by: Fran...\n",
       "4  FRANKIE'S NY WINGS INC.\\nOwned & Optd by: Fran...\n",
       "5  FRANKIE'S NY WINGS INC.\\nOwned & Optd by: Fran...\n",
       "6  FRANKIE'S NY WINGS INC.\\nOwned & Optd by: Fran...\n",
       "7  FRANKIE'S NY WINGS INC.\\nOwned & Optd by: Fran...\n",
       "8  FRANKIE'S NY WINGS INC.\\nOwned & Optd by: Fran...\n",
       "9  FRANKIE'S NY WINGS INC.\\nOwned & Optd by: Fran..."
      ]
     },
     "execution_count": 3,
     "metadata": {},
     "output_type": "execute_result"
    }
   ],
   "source": [
    "def get_raw_text():          ## add in parameters to limit the amt of raw text\n",
    "    qstr = f\"\"\"\n",
    "    select raw_text from aimbox \n",
    "    where outlet_id=94\n",
    "    limit 10\n",
    "    \"\"\"\n",
    "    return aimbox.query(text=qstr)\n",
    "\n",
    "data = get_raw_text()\n",
    "data"
   ]
  },
  {
   "cell_type": "code",
   "execution_count": 4,
   "id": "cfa05415-ae2d-424f-a551-1d0373a083bf",
   "metadata": {},
   "outputs": [
    {
     "data": {
      "text/plain": [
       "['Athiti_Medium.ttf',\n",
       " 'ChulaNarak_Regular.ttf',\n",
       " 'Garuda.ttf',\n",
       " 'TH_Sarabun_New_Regular.ttf']"
      ]
     },
     "execution_count": 4,
     "metadata": {},
     "output_type": "execute_result"
    }
   ],
   "source": [
    "font_dir='font/'\n",
    "fonts = []\n",
    "\n",
    "for root, directories, files in os.walk(font_dir):\n",
    "        for filename in files:\n",
    "            filepath = root+'\\\\'+filename\n",
    "            name = filename.replace(' ','_')\n",
    "            new=root+'\\\\'+name\n",
    "            fonts.append(name)\n",
    "            os.rename(filepath, new)\n",
    "fonts"
   ]
  },
  {
   "cell_type": "code",
   "execution_count": 6,
   "id": "7a752e80-6d69-4c3e-9eeb-0e2d5438625c",
   "metadata": {},
   "outputs": [],
   "source": [
    "# from google.cloud import translate_v2 as translate\n",
    "# translate_client = translate.Client()\n",
    "# result = translate_client.translate('hi', target_language='th')\n",
    "# print(result[\"translatedText\"])"
   ]
  },
  {
   "cell_type": "code",
   "execution_count": 28,
   "id": "248eaa76-7339-4138-8ded-2f58f6413a22",
   "metadata": {},
   "outputs": [],
   "source": [
    "def translate_to_th_img(data, text_dir, img_dir, font_dir, labels, img_name, fonts, status): #name inclusive of txt\n",
    "    temp = data.split('\\n') #change depending on cols of data.\n",
    "    f= open(text_dir+img_name,\"w+\", encoding=\"utf-8\")\n",
    "    for x in range(len(temp)):\n",
    "        if temp[x] != '':\n",
    "            try:\n",
    "                translation = translate_client.translate(str(temp[x]), target_language='th')\n",
    "                f.write('\\n')\n",
    "                f.write(translation[\"translatedText\"])\n",
    "            except IndexError:\n",
    "                continue\n",
    "            except AttributeError:\n",
    "                continue\n",
    "    f.close()\n",
    "\n",
    "    for i in fonts:\n",
    "        font = ImageFont.truetype(font_dir+str(i), 25)\n",
    "        img_loc=img_dir+img_name+'_'+i.split('.')[0]\n",
    "        print(img_name+'_'+i.split('.')[0]+'.png', translation[\"translatedText\"])\n",
    "        print(img_loc)\n",
    "        labels=labels.append({'filename':img_loc+'.png', 'words': data.replace('\\n', ' ')}, ignore_index=True)  #removing \\n\n",
    "\n",
    "        with open(text_dir+img_name, encoding=\"utf8\") as f:\n",
    "            lines = f.readlines()\n",
    "            size = os.path.getsize(text_dir+img_name)\n",
    "        empt=''\n",
    "        string=empt.join(lines)\n",
    "        img = Image.new(mode='RGB', size=(1000, int(size*0.7)), color='white')\n",
    "        d = ImageDraw.Draw(img)\n",
    "        d.text((100, 20), string, fill=(0, 0, 0), font=font)\n",
    "        img.save(img_loc+\".png\", \"PNG\")\n",
    "    return labels"
   ]
  },
  {
   "cell_type": "code",
   "execution_count": 29,
   "id": "7210ec68-6591-4f89-8231-b844d6a08641",
   "metadata": {},
   "outputs": [],
   "source": [
    "directory='C:/Users/joman/Documents/GitHub/EasyOCR/trainer/text/'\n",
    "train_dir = 'C:/Users/joman/Documents/GitHub/EasyOCR/trainer/all_data/data_train/'\n",
    "valid_dir = 'C:/Users/joman/Documents/GitHub/EasyOCR/trainer/all_data/data_valid/'\n",
    "font_dir='C:/Users/joman/Documents/GitHub/EasyOCR/trainer/font/'\n",
    "labels_train = pd.DataFrame(columns=['filename', 'words'])\n",
    "labels_test = pd.DataFrame(columns=['filename', 'words'])\n",
    "labels_valid = pd.DataFrame(columns=['filename', 'words'])"
   ]
  },
  {
   "cell_type": "code",
   "execution_count": 30,
   "id": "115d48fa-75fe-4b5b-bfb5-6b56fb415a60",
   "metadata": {},
   "outputs": [
    {
     "name": "stdout",
     "output_type": "stream",
     "text": [
      "thai0_Athiti_Medium.png ,1615358026\n",
      "C:/Users/joman/Documents/GitHub/EasyOCR/trainer/all_data/data_valid/thai0_Athiti_Medium\n",
      "thai0_ChulaNarak_Regular.png ,1615358026\n",
      "C:/Users/joman/Documents/GitHub/EasyOCR/trainer/all_data/data_valid/thai0_ChulaNarak_Regular\n",
      "thai0_Garuda.png ,1615358026\n",
      "C:/Users/joman/Documents/GitHub/EasyOCR/trainer/all_data/data_valid/thai0_Garuda\n",
      "thai0_TH_Sarabun_New_Regular.png ,1615358026\n",
      "C:/Users/joman/Documents/GitHub/EasyOCR/trainer/all_data/data_valid/thai0_TH_Sarabun_New_Regular\n",
      "thai1_Athiti_Medium.png ,1594456795\n",
      "C:/Users/joman/Documents/GitHub/EasyOCR/trainer/all_data/data_valid/thai1_Athiti_Medium\n",
      "thai1_ChulaNarak_Regular.png ,1594456795\n",
      "C:/Users/joman/Documents/GitHub/EasyOCR/trainer/all_data/data_valid/thai1_ChulaNarak_Regular\n",
      "thai1_Garuda.png ,1594456795\n",
      "C:/Users/joman/Documents/GitHub/EasyOCR/trainer/all_data/data_valid/thai1_Garuda\n",
      "thai1_TH_Sarabun_New_Regular.png ,1594456795\n",
      "C:/Users/joman/Documents/GitHub/EasyOCR/trainer/all_data/data_valid/thai1_TH_Sarabun_New_Regular\n",
      "thai2_Athiti_Medium.png ,1613376832\n",
      "C:/Users/joman/Documents/GitHub/EasyOCR/trainer/all_data/data_valid/thai2_Athiti_Medium\n",
      "thai2_ChulaNarak_Regular.png ,1613376832\n",
      "C:/Users/joman/Documents/GitHub/EasyOCR/trainer/all_data/data_valid/thai2_ChulaNarak_Regular\n",
      "thai2_Garuda.png ,1613376832\n",
      "C:/Users/joman/Documents/GitHub/EasyOCR/trainer/all_data/data_valid/thai2_Garuda\n",
      "thai2_TH_Sarabun_New_Regular.png ,1613376832\n",
      "C:/Users/joman/Documents/GitHub/EasyOCR/trainer/all_data/data_valid/thai2_TH_Sarabun_New_Regular\n",
      "thai3_Athiti_Medium.png ,1615357991\n",
      "C:/Users/joman/Documents/GitHub/EasyOCR/trainer/all_data/data_train/thai3_Athiti_Medium\n",
      "thai3_ChulaNarak_Regular.png ,1615357991\n",
      "C:/Users/joman/Documents/GitHub/EasyOCR/trainer/all_data/data_train/thai3_ChulaNarak_Regular\n",
      "thai3_Garuda.png ,1615357991\n",
      "C:/Users/joman/Documents/GitHub/EasyOCR/trainer/all_data/data_train/thai3_Garuda\n",
      "thai3_TH_Sarabun_New_Regular.png ,1615357991\n",
      "C:/Users/joman/Documents/GitHub/EasyOCR/trainer/all_data/data_train/thai3_TH_Sarabun_New_Regular\n",
      "thai4_Athiti_Medium.png ,1621244665\n",
      "C:/Users/joman/Documents/GitHub/EasyOCR/trainer/all_data/data_train/thai4_Athiti_Medium\n",
      "thai4_ChulaNarak_Regular.png ,1621244665\n",
      "C:/Users/joman/Documents/GitHub/EasyOCR/trainer/all_data/data_train/thai4_ChulaNarak_Regular\n",
      "thai4_Garuda.png ,1621244665\n",
      "C:/Users/joman/Documents/GitHub/EasyOCR/trainer/all_data/data_train/thai4_Garuda\n",
      "thai4_TH_Sarabun_New_Regular.png ,1621244665\n",
      "C:/Users/joman/Documents/GitHub/EasyOCR/trainer/all_data/data_train/thai4_TH_Sarabun_New_Regular\n",
      "thai5_Athiti_Medium.png ,1621930872\n",
      "C:/Users/joman/Documents/GitHub/EasyOCR/trainer/all_data/data_train/thai5_Athiti_Medium\n",
      "thai5_ChulaNarak_Regular.png ,1621930872\n",
      "C:/Users/joman/Documents/GitHub/EasyOCR/trainer/all_data/data_train/thai5_ChulaNarak_Regular\n",
      "thai5_Garuda.png ,1621930872\n",
      "C:/Users/joman/Documents/GitHub/EasyOCR/trainer/all_data/data_train/thai5_Garuda\n",
      "thai5_TH_Sarabun_New_Regular.png ,1621930872\n",
      "C:/Users/joman/Documents/GitHub/EasyOCR/trainer/all_data/data_train/thai5_TH_Sarabun_New_Regular\n",
      "thai6_Athiti_Medium.png ,1621930473\n",
      "C:/Users/joman/Documents/GitHub/EasyOCR/trainer/all_data/data_train/thai6_Athiti_Medium\n",
      "thai6_ChulaNarak_Regular.png ,1621930473\n",
      "C:/Users/joman/Documents/GitHub/EasyOCR/trainer/all_data/data_train/thai6_ChulaNarak_Regular\n",
      "thai6_Garuda.png ,1621930473\n",
      "C:/Users/joman/Documents/GitHub/EasyOCR/trainer/all_data/data_train/thai6_Garuda\n",
      "thai6_TH_Sarabun_New_Regular.png ,1621930473\n",
      "C:/Users/joman/Documents/GitHub/EasyOCR/trainer/all_data/data_train/thai6_TH_Sarabun_New_Regular\n",
      "thai7_Athiti_Medium.png ,1628739885\n",
      "C:/Users/joman/Documents/GitHub/EasyOCR/trainer/all_data/data_train/thai7_Athiti_Medium\n",
      "thai7_ChulaNarak_Regular.png ,1628739885\n",
      "C:/Users/joman/Documents/GitHub/EasyOCR/trainer/all_data/data_train/thai7_ChulaNarak_Regular\n",
      "thai7_Garuda.png ,1628739885\n",
      "C:/Users/joman/Documents/GitHub/EasyOCR/trainer/all_data/data_train/thai7_Garuda\n",
      "thai7_TH_Sarabun_New_Regular.png ,1628739885\n",
      "C:/Users/joman/Documents/GitHub/EasyOCR/trainer/all_data/data_train/thai7_TH_Sarabun_New_Regular\n",
      "thai8_Athiti_Medium.png ,1594963439\n",
      "C:/Users/joman/Documents/GitHub/EasyOCR/trainer/all_data/data_train/thai8_Athiti_Medium\n",
      "thai8_ChulaNarak_Regular.png ,1594963439\n",
      "C:/Users/joman/Documents/GitHub/EasyOCR/trainer/all_data/data_train/thai8_ChulaNarak_Regular\n",
      "thai8_Garuda.png ,1594963439\n",
      "C:/Users/joman/Documents/GitHub/EasyOCR/trainer/all_data/data_train/thai8_Garuda\n",
      "thai8_TH_Sarabun_New_Regular.png ,1594963439\n",
      "C:/Users/joman/Documents/GitHub/EasyOCR/trainer/all_data/data_train/thai8_TH_Sarabun_New_Regular\n",
      "thai9_Athiti_Medium.png ,1594456762\n",
      "C:/Users/joman/Documents/GitHub/EasyOCR/trainer/all_data/data_train/thai9_Athiti_Medium\n",
      "thai9_ChulaNarak_Regular.png ,1594456762\n",
      "C:/Users/joman/Documents/GitHub/EasyOCR/trainer/all_data/data_train/thai9_ChulaNarak_Regular\n",
      "thai9_Garuda.png ,1594456762\n",
      "C:/Users/joman/Documents/GitHub/EasyOCR/trainer/all_data/data_train/thai9_Garuda\n",
      "thai9_TH_Sarabun_New_Regular.png ,1594456762\n",
      "C:/Users/joman/Documents/GitHub/EasyOCR/trainer/all_data/data_train/thai9_TH_Sarabun_New_Regular\n",
      "done\n"
     ]
    }
   ],
   "source": [
    "for i in range(len(data)):\n",
    "    valid = round(len(data)*0.15)\n",
    "    train = len(data) - valid\n",
    "    if i<=valid:\n",
    "        labels_valid=translate_to_th_img(data['raw_text'][i], directory, valid_dir, font_dir, labels_valid, 'thai'+str(i), fonts, 'test')\n",
    "    else:\n",
    "        labels_train=translate_to_th_img(data['raw_text'][i], directory, train_dir, font_dir, labels_train, 'thai'+str(i), fonts, 'train')\n",
    "\n",
    "\n",
    "\n",
    "labels_train.to_csv('all_data/data_train/labels.csv', index=False)\n",
    "labels_valid.to_csv('all_data/data_valid/labels.csv', index=False)\n",
    "print('done')"
   ]
  },
  {
   "cell_type": "code",
   "execution_count": 10,
   "id": "795e11cc-015f-4972-92fe-cda119266c64",
   "metadata": {},
   "outputs": [],
   "source": [
    "# with open('C:/Users/joman/Desktop/easyocr/final_to_upload/gt_train.txt', 'w+', encoding=\"utf8\") as f:\n",
    "#     labels_train = pd.read_csv(train_dir+'labels.csv')\n",
    "#     for i in range(len(labels_train)):\n",
    "#         f.write(labels_train['filename'][i])\n",
    "#         f.write('\\t')\n",
    "#         f.write(labels_train['raw_text'][i])\n",
    "#         f.write('\\n')\n",
    "#     f.close()\n",
    "\n",
    "# with open('C:/Users/joman/Desktop/easyocr/final_to_upload/gt_test.txt', 'w+', encoding=\"utf8\") as f:\n",
    "#     labels_test = pd.read_csv(test_dir+'labels.csv')\n",
    "#     for i in range(len(labels_test)):\n",
    "#         f.write(labels_test['filename'][i])\n",
    "#         f.write('\\t')\n",
    "#         f.write(labels_test['raw_text'][i])\n",
    "#         f.write('\\n')\n",
    "#     f.close()\n",
    "    \n",
    "# with open('C:/Users/joman/Desktop/easyocr/final_to_upload/gt_valid.txt', 'w+', encoding=\"utf8\") as f:\n",
    "#     labels_valid = pd.read_csv(valid_dir+'labels.csv')\n",
    "#     for i in range(len(labels_valid)):\n",
    "#         f.write(labels_valid['filename'][i])\n",
    "#         f.write('\\t')\n",
    "#         f.write(labels_valid['raw_text'][i])\n",
    "#         f.write('\\n')\n",
    "#     f.close()"
   ]
  },
  {
   "cell_type": "code",
   "execution_count": 11,
   "id": "10a48997-c3ce-47d0-b35c-942bd8d2790e",
   "metadata": {},
   "outputs": [
    {
     "data": {
      "text/plain": [
       "'C:/Users/joman/Desktop/easyocr/img/test/img/thai0_Aksaramatee_Italic.png'"
      ]
     },
     "execution_count": 11,
     "metadata": {},
     "output_type": "execute_result"
    }
   ],
   "source": [
    "labels_test['filename'][1]"
   ]
  },
  {
   "cell_type": "markdown",
   "id": "3e8fa341-c5ae-4a27-87f8-575a6722bb9f",
   "metadata": {},
   "source": [
    "## Single line text image"
   ]
  },
  {
   "cell_type": "code",
   "execution_count": 33,
   "id": "87f34e7b-e50e-41da-8a6c-e9065ac3528c",
   "metadata": {},
   "outputs": [
    {
     "data": {
      "text/html": [
       "<div>\n",
       "<style scoped>\n",
       "    .dataframe tbody tr th:only-of-type {\n",
       "        vertical-align: middle;\n",
       "    }\n",
       "\n",
       "    .dataframe tbody tr th {\n",
       "        vertical-align: top;\n",
       "    }\n",
       "\n",
       "    .dataframe thead th {\n",
       "        text-align: right;\n",
       "    }\n",
       "</style>\n",
       "<table border=\"1\" class=\"dataframe\">\n",
       "  <thead>\n",
       "    <tr style=\"text-align: right;\">\n",
       "      <th></th>\n",
       "      <th>raw_text</th>\n",
       "    </tr>\n",
       "  </thead>\n",
       "  <tbody>\n",
       "    <tr>\n",
       "      <th>0</th>\n",
       "      <td>FRANKIE'S NY WINGS INC.\\nOwned &amp; Optd by: Fran...</td>\n",
       "    </tr>\n",
       "    <tr>\n",
       "      <th>1</th>\n",
       "      <td>FRANKIE'S NY WINGS INC.\\nOwned &amp; Optd by: Fran...</td>\n",
       "    </tr>\n",
       "    <tr>\n",
       "      <th>2</th>\n",
       "      <td>FRANKIE'S NY WINGS INC.\\nOwned &amp; Optd by: Fran...</td>\n",
       "    </tr>\n",
       "    <tr>\n",
       "      <th>3</th>\n",
       "      <td>FRANKIE'S NY WINGS INC.\\nOwned &amp; Optd by: Fran...</td>\n",
       "    </tr>\n",
       "    <tr>\n",
       "      <th>4</th>\n",
       "      <td>FRANKIE'S NY WINGS INC.\\nOwned &amp; Optd by: Fran...</td>\n",
       "    </tr>\n",
       "    <tr>\n",
       "      <th>5</th>\n",
       "      <td>FRANKIE'S NY WINGS INC.\\nOwned &amp; Optd by: Fran...</td>\n",
       "    </tr>\n",
       "    <tr>\n",
       "      <th>6</th>\n",
       "      <td>FRANKIE'S NY WINGS INC.\\nOwned &amp; Optd by: Fran...</td>\n",
       "    </tr>\n",
       "    <tr>\n",
       "      <th>7</th>\n",
       "      <td>FRANKIE'S NY WINGS INC.\\nOwned &amp; Optd by: Fran...</td>\n",
       "    </tr>\n",
       "    <tr>\n",
       "      <th>8</th>\n",
       "      <td>FRANKIE'S NY WINGS INC.\\nOwned &amp; Optd by: Fran...</td>\n",
       "    </tr>\n",
       "    <tr>\n",
       "      <th>9</th>\n",
       "      <td>FRANKIE'S NY WINGS INC.\\nOwned &amp; Optd by: Fran...</td>\n",
       "    </tr>\n",
       "  </tbody>\n",
       "</table>\n",
       "</div>"
      ],
      "text/plain": [
       "                                            raw_text\n",
       "0  FRANKIE'S NY WINGS INC.\\nOwned & Optd by: Fran...\n",
       "1  FRANKIE'S NY WINGS INC.\\nOwned & Optd by: Fran...\n",
       "2  FRANKIE'S NY WINGS INC.\\nOwned & Optd by: Fran...\n",
       "3  FRANKIE'S NY WINGS INC.\\nOwned & Optd by: Fran...\n",
       "4  FRANKIE'S NY WINGS INC.\\nOwned & Optd by: Fran...\n",
       "5  FRANKIE'S NY WINGS INC.\\nOwned & Optd by: Fran...\n",
       "6  FRANKIE'S NY WINGS INC.\\nOwned & Optd by: Fran...\n",
       "7  FRANKIE'S NY WINGS INC.\\nOwned & Optd by: Fran...\n",
       "8  FRANKIE'S NY WINGS INC.\\nOwned & Optd by: Fran...\n",
       "9  FRANKIE'S NY WINGS INC.\\nOwned & Optd by: Fran..."
      ]
     },
     "execution_count": 33,
     "metadata": {},
     "output_type": "execute_result"
    }
   ],
   "source": [
    "data"
   ]
  },
  {
   "cell_type": "code",
   "execution_count": 5,
   "id": "cb0b03b9-02d4-458e-8310-072292dc2825",
   "metadata": {},
   "outputs": [
    {
     "data": {
      "text/html": [
       "<div>\n",
       "<style scoped>\n",
       "    .dataframe tbody tr th:only-of-type {\n",
       "        vertical-align: middle;\n",
       "    }\n",
       "\n",
       "    .dataframe tbody tr th {\n",
       "        vertical-align: top;\n",
       "    }\n",
       "\n",
       "    .dataframe thead th {\n",
       "        text-align: right;\n",
       "    }\n",
       "</style>\n",
       "<table border=\"1\" class=\"dataframe\">\n",
       "  <thead>\n",
       "    <tr style=\"text-align: right;\">\n",
       "      <th></th>\n",
       "      <th>raw_text</th>\n",
       "    </tr>\n",
       "  </thead>\n",
       "  <tbody>\n",
       "    <tr>\n",
       "      <th>0</th>\n",
       "      <td>FRANKIE'S NY WINGS INC.\\nOwned &amp; Optd by: Fran...</td>\n",
       "    </tr>\n",
       "    <tr>\n",
       "      <th>1</th>\n",
       "      <td>FRANKIE'S NY WINGS INC.\\nOwned &amp; Optd by: Fran...</td>\n",
       "    </tr>\n",
       "    <tr>\n",
       "      <th>2</th>\n",
       "      <td>FRANKIE'S NY WINGS INC.\\nOwned &amp; Optd by: Fran...</td>\n",
       "    </tr>\n",
       "  </tbody>\n",
       "</table>\n",
       "</div>"
      ],
      "text/plain": [
       "                                            raw_text\n",
       "0  FRANKIE'S NY WINGS INC.\\nOwned & Optd by: Fran...\n",
       "1  FRANKIE'S NY WINGS INC.\\nOwned & Optd by: Fran...\n",
       "2  FRANKIE'S NY WINGS INC.\\nOwned & Optd by: Fran..."
      ]
     },
     "execution_count": 5,
     "metadata": {},
     "output_type": "execute_result"
    }
   ],
   "source": [
    "curr = data[0:3]\n",
    "curr"
   ]
  },
  {
   "cell_type": "markdown",
   "id": "e153c41d-4376-40cf-b290-68878141ce90",
   "metadata": {},
   "source": [
    "Every line is an image by itself. --> split acc to '\\n' and run translate_to_th"
   ]
  },
  {
   "cell_type": "code",
   "execution_count": 6,
   "id": "4a0355b4-7f9d-4c84-857f-f6fe0cb2487e",
   "metadata": {},
   "outputs": [
    {
     "name": "stdout",
     "output_type": "stream",
     "text": [
      "แฟรงกี้ส์ นิวยอร์ก วิงส์ อิงค์\n"
     ]
    }
   ],
   "source": [
    "curr['raw_text'][0].split('\\n')[0]\n",
    "\n",
    "translatessss = translate.Client()\n",
    "result = translatessss.translate(curr['raw_text'][0].split('\\n')[0], target_language='th')\n",
    "print(result[\"translatedText\"])"
   ]
  },
  {
   "cell_type": "code",
   "execution_count": 57,
   "id": "e1c4bdab-c091-423b-99c1-8c23ccb5e595",
   "metadata": {},
   "outputs": [],
   "source": [
    "def translate_to_th_img_single(data, text_dir, img_dir, font_dir, labels, img_name, fonts, status): #name inclusive of txt\n",
    "    string=re.sub(r'[\\W_]+', ' ', data)#.replace(' ', '') ## removing non-alphanumeric and spaces in the sentence\n",
    "    if string != ' ' and string != '':\n",
    "        f= open(text_dir+img_name,\"w+\", encoding=\"utf-8\")\n",
    "        try:\n",
    "            translation = translate_client.translate(string, target_language='th')\n",
    "            f.write(translation[\"translatedText\"])\n",
    "        except IndexError:\n",
    "            pass\n",
    "        except AttributeError:\n",
    "            pass\n",
    "        f.close()\n",
    "        for i in fonts:\n",
    "            # print(font_dir + str(i))\n",
    "            font = ImageFont.truetype(font_dir+str(i), 25)\n",
    "            name = img_name+'_'+i.split('.')[0]\n",
    "            img_loc=img_dir+name\n",
    "            print(img_loc, name, translation[\"translatedText\"])\n",
    "            labels=labels.append({'filename':name+'.png', 'words': translation[\"translatedText\"]}, ignore_index=True)  #removing \\n\n",
    "\n",
    "            with open(text_dir+img_name, encoding=\"utf8\") as f:\n",
    "                lines = f.readlines()\n",
    "            empt=''\n",
    "            string=empt.join(lines)\n",
    "            # print(string)\n",
    "            img = Image.new(mode='RGB', size=(1000, 100), color='white')\n",
    "            d = ImageDraw.Draw(img)\n",
    "            d.text((50, 20), string, fill=(0, 0, 0), font=font)\n",
    "            img.save(img_dir+name+\".png\", \"PNG\")\n",
    "    return labels"
   ]
  },
  {
   "cell_type": "code",
   "execution_count": 16,
   "id": "2f051848",
   "metadata": {},
   "outputs": [
    {
     "data": {
      "text/plain": [
       "['Athiti_Medium.ttf']"
      ]
     },
     "execution_count": 16,
     "metadata": {},
     "output_type": "execute_result"
    }
   ],
   "source": [
    "fonts_temp = fonts[:1]\n",
    "fonts_temp"
   ]
  },
  {
   "cell_type": "code",
   "execution_count": 35,
   "id": "2ddf73c6",
   "metadata": {},
   "outputs": [
    {
     "name": "stdout",
     "output_type": "stream",
     "text": [
      "C:\\Users\\joman\\Documents\\GitHub\\EasyOCR\\trainer\n"
     ]
    }
   ],
   "source": [
    "cd C:/Users/joman/Documents/GitHub/EasyOCR/trainer"
   ]
  },
  {
   "cell_type": "code",
   "execution_count": 58,
   "id": "144518a8-8de7-4469-b372-588f717f5e17",
   "metadata": {},
   "outputs": [],
   "source": [
    "single_text_dir = 'text/'\n",
    "single_valid_img = 'all_data/data_valid/'\n",
    "single_train_img = 'all_data/data_train/'\n",
    "font_dir='font/'\n",
    "\n",
    "single_labels_valid = pd.DataFrame(columns=['filename', 'words'])\n",
    "single_labels_train = pd.DataFrame(columns=['filename', 'words'])"
   ]
  },
  {
   "cell_type": "code",
   "execution_count": 56,
   "id": "ba6218aa",
   "metadata": {},
   "outputs": [
    {
     "data": {
      "text/plain": [
       "'----------------------------------------'"
      ]
     },
     "execution_count": 56,
     "metadata": {},
     "output_type": "execute_result"
    }
   ],
   "source": [
    "tempo=curr['raw_text'][0].split('\\n')\n",
    "tempo[14]"
   ]
  },
  {
   "cell_type": "code",
   "execution_count": 59,
   "id": "ea063f32-20b2-4bfe-81be-f29ada1dc61c",
   "metadata": {},
   "outputs": [
    {
     "name": "stdout",
     "output_type": "stream",
     "text": [
      "all_data/data_valid/thai0_line0_Athiti_Medium thai0_line0_Athiti_Medium แฟรงกี้ เอส นิวยอร์ก วิงส์ อิงค์\n",
      "all_data/data_valid/thai0_line1_Athiti_Medium thai0_line1_Athiti_Medium เป็นเจ้าของ Optd โดย Frankie s NY Wings Inc\n",
      "all_data/data_valid/thai0_line2_Athiti_Medium thai0_line2_Athiti_Medium FS 8 ระดับ 4 SM Aura\n",
      "all_data/data_valid/thai0_line3_Athiti_Medium thai0_line3_Athiti_Medium Bonifacio Global City\n",
      "all_data/data_valid/thai0_line4_Athiti_Medium thai0_line4_Athiti_Medium ป้อม Bonifacio Taguig City\n",
      "all_data/data_valid/thai0_line5_Athiti_Medium thai0_line5_Athiti_Medium ทะเบียนภาษีมูลค่าเพิ่ม TIN 009 074 986 00010\n",
      "all_data/data_valid/thai0_line6_Athiti_Medium thai0_line6_Athiti_Medium ขั้นต่ำ 15091811250923388\n",
      "all_data/data_valid/thai0_line7_Athiti_Medium thai0_line7_Athiti_Medium MSN 8880115010003\n",
      "all_data/data_valid/thai0_line8_Athiti_Medium thai0_line8_Athiti_Medium ใบเสร็จทางการ\n",
      "all_data/data_train/thai_0_line9_Athiti_Medium thai_0_line9_Athiti_Medium พิมพ์ซ้ำ\n",
      "all_data/data_train/thai_0_line10_Athiti_Medium thai_0_line10_Athiti_Medium จำนวนแขก 1\n",
      "all_data/data_train/thai_0_line11_Athiti_Medium thai_0_line11_Athiti_Medium ใบเสร็จรับเงินอย่างเป็นทางการ 0000200002\n",
      "all_data/data_train/thai_0_line12_Athiti_Medium thai_0_line12_Athiti_Medium เทอม 1 Cshr JAM\n",
      "all_data/data_train/thai_0_line13_Athiti_Medium thai_0_line13_Athiti_Medium เดินเข้า\n",
      "all_data/data_train/thai_0_line15_Athiti_Medium thai_0_line15_Athiti_Medium จำนวน รายละเอียด s ราคา\n",
      "all_data/data_train/thai_0_line17_Athiti_Medium thai_0_line17_Athiti_Medium รับประทานอาหารใน\n",
      "all_data/data_train/thai_0_line18_Athiti_Medium thai_0_line18_Athiti_Medium 1 00 1 Doz Wings World 348 00 V\n",
      "all_data/data_train/thai_0_line19_Athiti_Medium thai_0_line19_Athiti_Medium 1 รายการ\n",
      "all_data/data_train/thai_0_line20_Athiti_Medium thai_0_line20_Athiti_Medium รวมทั้งหมด 348 00\n",
      "all_data/data_train/thai_0_line22_Athiti_Medium thai_0_line22_Athiti_Medium รวม 348 00\n",
      "all_data/data_train/thai_0_line23_Athiti_Medium thai_0_line23_Athiti_Medium ประกวดราคา\n",
      "all_data/data_train/thai_0_line24_Athiti_Medium thai_0_line24_Athiti_Medium เงินสด 500 00\n",
      "all_data/data_train/thai_0_line25_Athiti_Medium thai_0_line25_Athiti_Medium เปลี่ยน 152 00\n",
      "all_data/data_train/thai_0_line27_Athiti_Medium thai_0_line27_Athiti_Medium VATable Sales V 310 71\n",
      "all_data/data_train/thai_0_line28_Athiti_Medium thai_0_line28_Athiti_Medium ภาษีมูลค่าเพิ่ม 37 29\n",
      "all_data/data_train/thai_0_line29_Athiti_Medium thai_0_line29_Athiti_Medium การขายยกเว้นภาษีมูลค่าเพิ่ม E 0 00\n",
      "all_data/data_train/thai_0_line30_Athiti_Medium thai_0_line30_Athiti_Medium ยอดขายเป็นศูนย์ Z 0 00\n",
      "all_data/data_train/thai_0_line32_Athiti_Medium thai_0_line32_Athiti_Medium 04 27 2017 03 09 43 น\n",
      "all_data/data_train/thai_0_line33_Athiti_Medium thai_0_line33_Athiti_Medium ชื่อ\n",
      "all_data/data_train/thai_0_line34_Athiti_Medium thai_0_line34_Athiti_Medium ที่อยู่\n",
      "all_data/data_train/thai_0_line35_Athiti_Medium thai_0_line35_Athiti_Medium เชื่อ\n",
      "all_data/data_train/thai_0_line36_Athiti_Medium thai_0_line36_Athiti_Medium สไตล์ธุรกิจ\n",
      "all_data/data_train/thai_0_line37_Athiti_Medium thai_0_line37_Athiti_Medium Cyber Frontier Electronics Trading Inc\n",
      "all_data/data_train/thai_0_line38_Athiti_Medium thai_0_line38_Athiti_Medium 2 Narra Drive Palmera Hts ซานฮวน\n",
      "all_data/data_train/thai_0_line39_Athiti_Medium thai_0_line39_Athiti_Medium เคนตา ริซาล\n",
      "all_data/data_train/thai_0_line40_Athiti_Medium thai_0_line40_Athiti_Medium ภาษีมูลค่าเพิ่ม TIN 006 737 173 00000\n",
      "all_data/data_train/thai_0_line41_Athiti_Medium thai_0_line41_Athiti_Medium หมายเลขบัญชี 0460067371730006116867\n",
      "all_data/data_train/thai_0_line42_Athiti_Medium thai_0_line42_Athiti_Medium วันที่ออก 03 01 2013\n",
      "all_data/data_train/thai_0_line43_Athiti_Medium thai_0_line43_Athiti_Medium ใช้ได้จนถึง 07 31 2021\n",
      "all_data/data_train/thai_0_line44_Athiti_Medium thai_0_line44_Athiti_Medium PTU หมายเลข FP092015 044 0054919 00001\n",
      "all_data/data_train/thai_0_line45_Athiti_Medium thai_0_line45_Athiti_Medium วันที่ออก 09 24 2015\n",
      "all_data/data_train/thai_0_line46_Athiti_Medium thai_0_line46_Athiti_Medium ใช้ได้จนถึง 07 31 2021\n",
      "all_data/data_train/thai_0_line47_Athiti_Medium thai_0_line47_Athiti_Medium ใบเสร็จรับเงินนี้จะใช้ได้จริง\n",
      "all_data/data_train/thai_0_line48_Athiti_Medium thai_0_line48_Athiti_Medium เป็นเวลา 5 ปีนับจากนี้\n",
      "all_data/data_train/thai_0_line49_Athiti_Medium thai_0_line49_Athiti_Medium วันที่ใช้สิทธิ์\n",
      "all_data/data_train/thai_0_line50_Athiti_Medium thai_0_line50_Athiti_Medium นี้ทำหน้าที่เป็นใบเสร็จรับเงินอย่างเป็นทางการ\n",
      "all_data/data_train/thai_0_line51_Athiti_Medium thai_0_line51_Athiti_Medium แวะมาขอบคุณอีกครั้งค่ะ\n",
      "all_data/data_train/thai_0_line52_Athiti_Medium thai_0_line52_Athiti_Medium www frankiesnywings com\n",
      "all_data/data_train/thai_0_line53_Athiti_Medium thai_0_line53_Athiti_Medium เฟสบุ๊ค แฟรงกี้วิงส์\n",
      "all_data/data_train/thai_0_line54_Athiti_Medium thai_0_line54_Athiti_Medium อินสตาแกรม ทวิตเตอร์ แฟรงกี้วิงส์\n",
      "all_data/data_train/thai_0_line62_Athiti_Medium thai_0_line62_Athiti_Medium 1615358026\n",
      "all_data/data_valid/thai1_line0_Athiti_Medium thai1_line0_Athiti_Medium แฟรงกี้ เอส นิวยอร์ก วิงส์ อิงค์\n",
      "all_data/data_valid/thai1_line1_Athiti_Medium thai1_line1_Athiti_Medium เป็นเจ้าของ Optd โดย Frankie s NY Wings Inc\n",
      "all_data/data_valid/thai1_line2_Athiti_Medium thai1_line2_Athiti_Medium FS 8 ระดับ 4 SM Aura\n",
      "all_data/data_valid/thai1_line3_Athiti_Medium thai1_line3_Athiti_Medium Bonifacio Global City\n",
      "all_data/data_valid/thai1_line4_Athiti_Medium thai1_line4_Athiti_Medium ป้อม Bonifacio Taguig City\n",
      "all_data/data_valid/thai1_line5_Athiti_Medium thai1_line5_Athiti_Medium ทะเบียนภาษีมูลค่าเพิ่ม TIN 009 074 986 00010\n",
      "all_data/data_valid/thai1_line6_Athiti_Medium thai1_line6_Athiti_Medium ขั้นต่ำ 15091811250923388\n",
      "all_data/data_valid/thai1_line7_Athiti_Medium thai1_line7_Athiti_Medium MSN 8880115010003\n",
      "all_data/data_valid/thai1_line10_Athiti_Medium thai1_line10_Athiti_Medium จำนวนแขก 1\n",
      "all_data/data_train/thai_1_line11_Athiti_Medium thai_1_line11_Athiti_Medium ใบเสร็จรับเงินอย่างเป็นทางการ 0000215468\n",
      "all_data/data_train/thai_1_line12_Athiti_Medium thai_1_line12_Athiti_Medium เทอร์มินอล 1\n",
      "all_data/data_train/thai_1_line13_Athiti_Medium thai_1_line13_Athiti_Medium เดินเข้า\n",
      "all_data/data_train/thai_1_line14_Athiti_Medium thai_1_line14_Athiti_Medium Cshr จอราลีน\n",
      "all_data/data_train/thai_1_line16_Athiti_Medium thai_1_line16_Athiti_Medium จำนวน รายละเอียด s ราคา\n",
      "all_data/data_train/thai_1_line18_Athiti_Medium thai_1_line18_Athiti_Medium รับประทานอาหารใน\n",
      "all_data/data_train/thai_1_line19_Athiti_Medium thai_1_line19_Athiti_Medium 1 00 1 2 DOZ SP W BC 188 00\n",
      "all_data/data_train/thai_1_line20_Athiti_Medium thai_1_line20_Athiti_Medium 1 00 1 2 DOZ MILD BLUE CHEES 188 00\n",
      "all_data/data_train/thai_1_line21_Athiti_Medium thai_1_line21_Athiti_Medium 2 00 โค้ก 16 ออนซ์ 80 00\n",
      "all_data/data_train/thai_1_line22_Athiti_Medium thai_1_line22_Athiti_Medium 40,000\n",
      "all_data/data_train/thai_1_line23_Athiti_Medium thai_1_line23_Athiti_Medium 2 00 ข้าว 50 00\n",
      "all_data/data_train/thai_1_line24_Athiti_Medium thai_1_line24_Athiti_Medium 25 00\n",
      "all_data/data_train/thai_1_line25_Athiti_Medium thai_1_line25_Athiti_Medium 6 รายการ\n",
      "all_data/data_train/thai_1_line26_Athiti_Medium thai_1_line26_Athiti_Medium รวมย่อย 506 00\n",
      "all_data/data_train/thai_1_line28_Athiti_Medium thai_1_line28_Athiti_Medium รวม 506 00\n",
      "all_data/data_train/thai_1_line29_Athiti_Medium thai_1_line29_Athiti_Medium ประกวดราคา\n",
      "all_data/data_train/thai_1_line30_Athiti_Medium thai_1_line30_Athiti_Medium AMEX 506 00\n",
      "all_data/data_train/thai_1_line31_Athiti_Medium thai_1_line31_Athiti_Medium เปลี่ยน 0 00\n",
      "all_data/data_train/thai_1_line33_Athiti_Medium thai_1_line33_Athiti_Medium Vatable Sales 451 79\n",
      "all_data/data_train/thai_1_line34_Athiti_Medium thai_1_line34_Athiti_Medium ภาษีมูลค่าเพิ่ม 12 00 54 21\n",
      "all_data/data_train/thai_1_line35_Athiti_Medium thai_1_line35_Athiti_Medium ขายยกเว้นภาษีมูลค่าเพิ่ม 0 00\n",
      "all_data/data_train/thai_1_line36_Athiti_Medium thai_1_line36_Athiti_Medium ยอดขายเป็นศูนย์ 0 00\n",
      "all_data/data_train/thai_1_line38_Athiti_Medium thai_1_line38_Athiti_Medium 6 3 2017 20 45 24\n",
      "all_data/data_train/thai_1_line39_Athiti_Medium thai_1_line39_Athiti_Medium หมายเลขบัตร 369\n",
      "all_data/data_train/thai_1_line40_Athiti_Medium thai_1_line40_Athiti_Medium ผู้ถือบัตร TAYAM RANDY A\n",
      "all_data/data_train/thai_1_line41_Athiti_Medium thai_1_line41_Athiti_Medium ธนาคาร BDO\n",
      "all_data/data_train/thai_1_line42_Athiti_Medium thai_1_line42_Athiti_Medium วันที่ 19 04\n",
      "all_data/data_train/thai_1_line43_Athiti_Medium thai_1_line43_Athiti_Medium รหัสแอป 439928\n",
      "all_data/data_train/thai_1_line44_Athiti_Medium thai_1_line44_Athiti_Medium พิมพ์ซ้ำ\n",
      "all_data/data_train/thai_1_line45_Athiti_Medium thai_1_line45_Athiti_Medium ชื่อ\n",
      "all_data/data_train/thai_1_line46_Athiti_Medium thai_1_line46_Athiti_Medium ที่อยู่\n",
      "all_data/data_train/thai_1_line47_Athiti_Medium thai_1_line47_Athiti_Medium เชื่อ\n",
      "all_data/data_train/thai_1_line48_Athiti_Medium thai_1_line48_Athiti_Medium Cyber Frontier Electronics Trading Inc\n",
      "all_data/data_train/thai_1_line49_Athiti_Medium thai_1_line49_Athiti_Medium 2 Narra Drive Palmera Hts ซานฮวน\n",
      "all_data/data_train/thai_1_line50_Athiti_Medium thai_1_line50_Athiti_Medium เคนตา ริซาล\n",
      "all_data/data_train/thai_1_line51_Athiti_Medium thai_1_line51_Athiti_Medium ภาษีมูลค่าเพิ่ม TIN 006 737 173 00000\n",
      "all_data/data_train/thai_1_line52_Athiti_Medium thai_1_line52_Athiti_Medium หมายเลขบัญชี 0460067371730006116867\n",
      "all_data/data_train/thai_1_line53_Athiti_Medium thai_1_line53_Athiti_Medium วันที่ออก 03 01 2013\n",
      "all_data/data_train/thai_1_line54_Athiti_Medium thai_1_line54_Athiti_Medium ใช้ได้จนถึง 07 31 2020\n",
      "all_data/data_train/thai_1_line55_Athiti_Medium thai_1_line55_Athiti_Medium PTU หมายเลข FP092015 044 0054919 00001\n",
      "all_data/data_train/thai_1_line56_Athiti_Medium thai_1_line56_Athiti_Medium วันที่ออก 09 24 2015\n",
      "all_data/data_train/thai_1_line57_Athiti_Medium thai_1_line57_Athiti_Medium ใช้ได้จนถึง 09 23 2020\n",
      "all_data/data_train/thai_1_line58_Athiti_Medium thai_1_line58_Athiti_Medium ใบเสร็จรับเงินนี้จะใช้ได้จริง\n",
      "all_data/data_train/thai_1_line59_Athiti_Medium thai_1_line59_Athiti_Medium เป็นเวลา 5 ปีนับจากนี้\n",
      "all_data/data_train/thai_1_line60_Athiti_Medium thai_1_line60_Athiti_Medium วันที่ใช้สิทธิ์\n",
      "all_data/data_train/thai_1_line61_Athiti_Medium thai_1_line61_Athiti_Medium นี้ทำหน้าที่เป็นใบเสร็จรับเงินอย่างเป็นทางการ\n",
      "all_data/data_train/thai_1_line62_Athiti_Medium thai_1_line62_Athiti_Medium แวะมาขอบคุณอีกครั้งค่ะ\n",
      "all_data/data_train/thai_1_line63_Athiti_Medium thai_1_line63_Athiti_Medium WE DELIVER www foodpanda พะเยา\n",
      "all_data/data_train/thai_1_line64_Athiti_Medium thai_1_line64_Athiti_Medium www frankiesnywings com\n",
      "all_data/data_train/thai_1_line65_Athiti_Medium thai_1_line65_Athiti_Medium เฟสบุ๊ค แฟรงกี้วิงส์\n",
      "all_data/data_train/thai_1_line66_Athiti_Medium thai_1_line66_Athiti_Medium อินสตาแกรม ทวิตเตอร์ แฟรงกี้วิงส์\n",
      "all_data/data_train/thai_1_line74_Athiti_Medium thai_1_line74_Athiti_Medium 1594456795\n",
      "all_data/data_valid/thai2_line0_Athiti_Medium thai2_line0_Athiti_Medium แฟรงกี้ เอส นิวยอร์ก วิงส์ อิงค์\n",
      "all_data/data_valid/thai2_line1_Athiti_Medium thai2_line1_Athiti_Medium เป็นเจ้าของ Optd โดย Frankie s NY Wings Inc\n",
      "all_data/data_valid/thai2_line2_Athiti_Medium thai2_line2_Athiti_Medium FS 8 ระดับ 4 SM Aura\n",
      "all_data/data_valid/thai2_line3_Athiti_Medium thai2_line3_Athiti_Medium Bonifacio Global City\n",
      "all_data/data_valid/thai2_line4_Athiti_Medium thai2_line4_Athiti_Medium ป้อม Bonifacio Taguig City\n",
      "all_data/data_valid/thai2_line5_Athiti_Medium thai2_line5_Athiti_Medium ทะเบียนภาษีมูลค่าเพิ่ม TIN 009 074 986 00010\n",
      "all_data/data_valid/thai2_line6_Athiti_Medium thai2_line6_Athiti_Medium ขั้นต่ำ 15091811250923388\n",
      "all_data/data_valid/thai2_line7_Athiti_Medium thai2_line7_Athiti_Medium MSN 8880115010003\n",
      "all_data/data_valid/thai2_line8_Athiti_Medium thai2_line8_Athiti_Medium ใบเสร็จทางการ\n",
      "all_data/data_valid/thai2_line9_Athiti_Medium thai2_line9_Athiti_Medium พิมพ์ซ้ำ\n",
      "all_data/data_train/thai_2_line10_Athiti_Medium thai_2_line10_Athiti_Medium จำนวนแขก 1\n",
      "all_data/data_train/thai_2_line11_Athiti_Medium thai_2_line11_Athiti_Medium ใบเสร็จรับเงินอย่างเป็นทางการ 0000221969\n",
      "all_data/data_train/thai_2_line12_Athiti_Medium thai_2_line12_Athiti_Medium วาระที่ 1 Cshr JORALYN\n",
      "all_data/data_train/thai_2_line13_Athiti_Medium thai_2_line13_Athiti_Medium เดินเข้า\n",
      "all_data/data_train/thai_2_line15_Athiti_Medium thai_2_line15_Athiti_Medium จำนวน รายละเอียด s ราคา\n",
      "all_data/data_train/thai_2_line17_Athiti_Medium thai_2_line17_Athiti_Medium รับประทานอาหารใน\n",
      "all_data/data_train/thai_2_line18_Athiti_Medium thai_2_line18_Athiti_Medium 2 00 ข้าว 50 00 V\n",
      "all_data/data_train/thai_2_line19_Athiti_Medium thai_2_line19_Athiti_Medium 25 00\n",
      "all_data/data_train/thai_2_line20_Athiti_Medium thai_2_line20_Athiti_Medium 2 รายการ\n",
      "all_data/data_train/thai_2_line21_Athiti_Medium thai_2_line21_Athiti_Medium ยอดรวม 50,000\n",
      "all_data/data_train/thai_2_line23_Athiti_Medium thai_2_line23_Athiti_Medium รวม 50,000\n",
      "all_data/data_train/thai_2_line24_Athiti_Medium thai_2_line24_Athiti_Medium ประกวดราคา\n",
      "all_data/data_train/thai_2_line25_Athiti_Medium thai_2_line25_Athiti_Medium เงินสด 50,000\n",
      "all_data/data_train/thai_2_line26_Athiti_Medium thai_2_line26_Athiti_Medium เปลี่ยน 0 00\n",
      "all_data/data_train/thai_2_line28_Athiti_Medium thai_2_line28_Athiti_Medium VATable Sales V 44 64\n",
      "all_data/data_train/thai_2_line29_Athiti_Medium thai_2_line29_Athiti_Medium ภาษีมูลค่าเพิ่ม 5 36\n",
      "all_data/data_train/thai_2_line30_Athiti_Medium thai_2_line30_Athiti_Medium การขายยกเว้นภาษีมูลค่าเพิ่ม E 0 00\n",
      "all_data/data_train/thai_2_line31_Athiti_Medium thai_2_line31_Athiti_Medium ยอดขายเป็นศูนย์ Z 0 00\n",
      "all_data/data_train/thai_2_line33_Athiti_Medium thai_2_line33_Athiti_Medium 06 19 2017 12 24 18 น.\n",
      "all_data/data_train/thai_2_line34_Athiti_Medium thai_2_line34_Athiti_Medium ชื่อ\n",
      "all_data/data_train/thai_2_line35_Athiti_Medium thai_2_line35_Athiti_Medium ที่อยู่\n",
      "all_data/data_train/thai_2_line36_Athiti_Medium thai_2_line36_Athiti_Medium เชื่อ\n",
      "all_data/data_train/thai_2_line37_Athiti_Medium thai_2_line37_Athiti_Medium สไตล์ธุรกิจ\n",
      "all_data/data_train/thai_2_line38_Athiti_Medium thai_2_line38_Athiti_Medium Cyber Frontier Electronics Trading Inc\n",
      "all_data/data_train/thai_2_line39_Athiti_Medium thai_2_line39_Athiti_Medium 2 Narra Drive Palmera Hts ซานฮวน\n",
      "all_data/data_train/thai_2_line40_Athiti_Medium thai_2_line40_Athiti_Medium เคนตา ริซาล\n",
      "all_data/data_train/thai_2_line41_Athiti_Medium thai_2_line41_Athiti_Medium ภาษีมูลค่าเพิ่ม TIN 006 737 173 00000\n",
      "all_data/data_train/thai_2_line42_Athiti_Medium thai_2_line42_Athiti_Medium หมายเลขบัญชี 0460067371730006116867\n",
      "all_data/data_train/thai_2_line43_Athiti_Medium thai_2_line43_Athiti_Medium วันที่ออก 03 01 2013\n",
      "all_data/data_train/thai_2_line44_Athiti_Medium thai_2_line44_Athiti_Medium ใช้ได้จนถึง 07 31 2021\n",
      "all_data/data_train/thai_2_line45_Athiti_Medium thai_2_line45_Athiti_Medium PTU หมายเลข FP092015 044 0054919 00001\n",
      "all_data/data_train/thai_2_line46_Athiti_Medium thai_2_line46_Athiti_Medium วันที่ออก 09 24 2015\n",
      "all_data/data_train/thai_2_line47_Athiti_Medium thai_2_line47_Athiti_Medium ใช้ได้จนถึง 07 31 2021\n",
      "all_data/data_train/thai_2_line48_Athiti_Medium thai_2_line48_Athiti_Medium ใบเสร็จรับเงินนี้จะใช้ได้จริง\n",
      "all_data/data_train/thai_2_line49_Athiti_Medium thai_2_line49_Athiti_Medium เป็นเวลา 5 ปีนับจากนี้\n",
      "all_data/data_train/thai_2_line50_Athiti_Medium thai_2_line50_Athiti_Medium วันที่ใช้สิทธิ์\n",
      "all_data/data_train/thai_2_line51_Athiti_Medium thai_2_line51_Athiti_Medium นี้ทำหน้าที่เป็นใบเสร็จรับเงินอย่างเป็นทางการ\n",
      "all_data/data_train/thai_2_line52_Athiti_Medium thai_2_line52_Athiti_Medium แวะมาขอบคุณอีกครั้งค่ะ\n",
      "all_data/data_train/thai_2_line53_Athiti_Medium thai_2_line53_Athiti_Medium www frankiesnywings com\n",
      "all_data/data_train/thai_2_line54_Athiti_Medium thai_2_line54_Athiti_Medium เฟสบุ๊ค แฟรงกี้วิงส์\n",
      "all_data/data_train/thai_2_line55_Athiti_Medium thai_2_line55_Athiti_Medium อินสตาแกรม ทวิตเตอร์ แฟรงกี้วิงส์\n",
      "all_data/data_train/thai_2_line63_Athiti_Medium thai_2_line63_Athiti_Medium 1613376832\n",
      "done\n"
     ]
    }
   ],
   "source": [
    "for i in range(len(curr)): \n",
    "    temp=curr['raw_text'][i].split('\\n')\n",
    "    valid = round(len(temp)*0.15)\n",
    "    for x in range(len(temp)):\n",
    "        if temp[x] != ' ' and temp[x] != '':\n",
    "            if x<valid:\n",
    "                single_labels_valid = translate_to_th_img_single(temp[x], single_text_dir, single_valid_img, font_dir, single_labels_valid, 'thai'+str(i)+'_line'+str(x), fonts_temp, 'valid')\n",
    "            else: #train_train\n",
    "                single_labels_train = translate_to_th_img_single(temp[x], single_text_dir, single_train_img, font_dir, single_labels_train, 'thai_'+str(i)+'_line'+str(x), fonts_temp, 'train')\n",
    "\n",
    "                    \n",
    "                    \n",
    "single_labels_valid.to_csv('all_data/data_valid/labels.csv', index=False)\n",
    "single_labels_train.to_csv('all_data/data_train/labels.csv', index=False)\n",
    "print('done')            "
   ]
  },
  {
   "cell_type": "code",
   "execution_count": 31,
   "id": "67b1b091-4943-411c-a73f-5743db5e14bf",
   "metadata": {},
   "outputs": [],
   "source": [
    "# single_labels_train = single_labels_ttest.append(single_labels_tvalid).append(single_labels_ttrain).rename(columns={'raw_text':'words'})\n",
    "# single_labels_train\n",
    "# single_labels_train.to_csv('C:/Users/joman/Desktop/easyocr/data_thaisingle_test/data_lmdb_release/training/singlelinetemp\\\\single_test\\\\labels.csv', index=False)"
   ]
  },
  {
   "cell_type": "code",
   "execution_count": 26,
   "id": "f0d7dddc-50ec-4ac1-8818-d4d0f0d4c6d2",
   "metadata": {},
   "outputs": [],
   "source": [
    "# with open('C:\\\\Users\\\\joman\\\\Desktop\\\\easyocr\\\\single_line\\\\data_test\\\\gt_test.txt', 'w+', encoding=\"utf8\") as f:\n",
    "#     for i in range(len(single_labels_test)):\n",
    "#         f.write(single_labels_test['filename'][i])\n",
    "#         f.write('\\t')\n",
    "#         f.write(single_labels_test['words'][i])\n",
    "#         f.write('\\n')\n",
    "#     f.close()\n",
    "    \n",
    "# with open('C:\\\\Users\\\\joman\\\\Desktop\\\\easyocr\\\\single_line\\\\data_valid\\\\gt_valid.txt', 'w+', encoding=\"utf8\") as f:\n",
    "#     for i in range(len(single_labels_valid)):\n",
    "#         f.write(single_labels_valid['filename'][i])\n",
    "#         f.write('\\t')\n",
    "#         f.write(single_labels_valid['words'][i])\n",
    "#         f.write('\\n')\n",
    "#     f.close()\n",
    "    \n",
    "\n",
    "# with open('C:\\\\Users\\\\joman\\\\Desktop\\\\easyocr\\\\single_line\\\\data_train\\\\gt_ttrain.txt', 'w+', encoding=\"utf8\") as f:\n",
    "#     for i in range(len(single_labels_ttrain)):\n",
    "#         f.write(single_labels_ttrain['filename'][i])\n",
    "#         f.write('\\t')\n",
    "#         f.write(single_labels_ttrain['words'][i])\n",
    "#         f.write('\\n')\n",
    "#     f.close()\n",
    "    \n",
    "# with open('C:\\\\Users\\\\joman\\\\Desktop\\\\easyocr\\\\single_line\\\\data_train\\\\gt_tvalid.txt', 'w+', encoding=\"utf8\") as f:\n",
    "#     for i in range(len(single_labels_tvalid)):\n",
    "#         f.write(single_labels_tvalid['filename'][i])\n",
    "#         f.write('\\t')\n",
    "#         f.write(single_labels_tvalid['words'][i])\n",
    "#         f.write('\\n')\n",
    "#     f.close()\n",
    "    \n",
    "# with open('C:\\\\Users\\\\joman\\\\Desktop\\\\easyocr\\\\single_line\\\\data_train\\\\gt_ttest.txt', 'w+', encoding=\"utf8\") as f:\n",
    "#     for i in range(len(single_labels_ttest)):\n",
    "#         f.write(single_labels_ttest['filename'][i])\n",
    "#         f.write('\\t')\n",
    "#         f.write(single_labels_ttest['words'][i])\n",
    "#         f.write('\\n')\n",
    "#     f.close()"
   ]
  },
  {
   "cell_type": "code",
   "execution_count": 35,
   "id": "c6140dfe-97a2-466a-b630-9ac7385f1556",
   "metadata": {},
   "outputs": [
    {
     "data": {
      "text/plain": [
       "['0123456789abcdefghijklmnopqrstuvwxyzกขฃคฅฆงจฉชซฌญฎฏฐฑฒณดตถทธนบปผฝพฟภมยรลวศษสหฬอฮอะอิอึอุเอะแอะโอะเอาะเออะเอียะเอือะอัวะอำไอใอเอาอาอีอือูเอแอโอออเออเอียเอืออัว']"
      ]
     },
     "execution_count": 35,
     "metadata": {},
     "output_type": "execute_result"
    }
   ],
   "source": [
    "char_loaded = open('C:\\\\Users\\\\joman\\\\Desktop\\\\easyocr\\\\characters.txt', \"r\", encoding=\"utf-8\")\n",
    "lines = char_loaded.readlines()\n",
    "lines"
   ]
  },
  {
   "cell_type": "markdown",
   "id": "d337b017-16e7-4ff2-8683-a2beda41d31c",
   "metadata": {},
   "source": [
    "## CLI for creation of lmdb dataset"
   ]
  },
  {
   "cell_type": "code",
   "execution_count": 36,
   "id": "ac4f913c-784b-4487-b612-2e0b5ac9bd7c",
   "metadata": {},
   "outputs": [],
   "source": [
    "!cd C:/Users/joman/Documents/GitHub/deep-text-recognition-benchmark"
   ]
  },
  {
   "cell_type": "code",
   "execution_count": 27,
   "id": "107be1d0-ec07-41b6-9948-f7c1efd9b54c",
   "metadata": {},
   "outputs": [
    {
     "name": "stdout",
     "output_type": "stream",
     "text": [
      "Created dataset with 28 samples\n"
     ]
    }
   ],
   "source": [
    "!python C:/Users/joman/Documents/GitHub/deep-text-recognition-benchmark/create_lmdb_dataset.py \\\n",
    "--inputPath C:/Users/joman/Desktop/easyocr/single_line/data_test/ \\\n",
    "--gtFile C:/Users/joman/Desktop/easyocr/single_line/data_test/gt_test.txt \\\n",
    "--outputPath C:/Users/joman/Desktop/easyocr/data_thaisingle_test/data_lmdb_release/evaluation/singlelineeval/"
   ]
  },
  {
   "cell_type": "code",
   "execution_count": 28,
   "id": "882d564f-922a-4074-8833-6c18cec91e08",
   "metadata": {},
   "outputs": [
    {
     "name": "stdout",
     "output_type": "stream",
     "text": [
      "Created dataset with 30 samples\n"
     ]
    }
   ],
   "source": [
    "!python C:/Users/joman/Documents/GitHub/deep-text-recognition-benchmark/create_lmdb_dataset.py \\\n",
    "--inputPath C:/Users/joman/Desktop/easyocr/single_line/data_valid/ \\\n",
    "--gtFile C:/Users/joman/Desktop/easyocr/single_line/data_valid/gt_valid.txt \\\n",
    "--outputPath C:/Users/joman/Desktop/easyocr/data_thaisingle_test/data_lmdb_release/validation/"
   ]
  },
  {
   "cell_type": "code",
   "execution_count": 29,
   "id": "8be0511c-cea3-4555-ac96-0213ffbe6363",
   "metadata": {},
   "outputs": [
    {
     "name": "stdout",
     "output_type": "stream",
     "text": [
      "Created dataset with 22 samples\n"
     ]
    }
   ],
   "source": [
    "!python C:/Users/joman/Documents/GitHub/deep-text-recognition-benchmark/create_lmdb_dataset.py \\\n",
    "--inputPath C:/Users/joman/Desktop/easyocr/single_line/data_train/ \\\n",
    "--gtFile C:/Users/joman/Desktop/easyocr/single_line/data_train/gt_ttest.txt \\\n",
    "--outputPath C:/Users/joman/Desktop/easyocr/data_thaisingle_test/data_lmdb_release/training/singlelinetemp/single_test/"
   ]
  },
  {
   "cell_type": "code",
   "execution_count": 30,
   "id": "d784bfc9-0b07-400a-9f2e-90453d413104",
   "metadata": {},
   "outputs": [
    {
     "name": "stdout",
     "output_type": "stream",
     "text": [
      "Created dataset with 77 samples\n"
     ]
    }
   ],
   "source": [
    "!python C:/Users/joman/Documents/GitHub/deep-text-recognition-benchmark/create_lmdb_dataset.py \\\n",
    "--inputPath C:/Users/joman/Desktop/easyocr/single_line/data_train/ \\\n",
    "--gtFile C:/Users/joman/Desktop/easyocr/single_line/data_train/gt_ttrain.txt \\\n",
    "--outputPath C:/Users/joman/Desktop/easyocr/data_thaisingle_test/data_lmdb_release/training/singlelinetemp/single_train/"
   ]
  },
  {
   "cell_type": "code",
   "execution_count": 31,
   "id": "205d7c28-00af-42a1-bcc5-f299739a4d7c",
   "metadata": {},
   "outputs": [
    {
     "name": "stdout",
     "output_type": "stream",
     "text": [
      "Created dataset with 22 samples\n"
     ]
    }
   ],
   "source": [
    "!python C:/Users/joman/Documents/GitHub/deep-text-recognition-benchmark/create_lmdb_dataset.py \\\n",
    "--inputPath C:/Users/joman/Desktop/easyocr/single_line/data_train/ \\\n",
    "--gtFile C:/Users/joman/Desktop/easyocr/single_line/data_train/gt_tvalid.txt \\\n",
    "--outputPath C:/Users/joman/Desktop/easyocr/data_thaisingle_test/data_lmdb_release/training/singlelinetemp/single_valid/ "
   ]
  },
  {
   "cell_type": "code",
   "execution_count": 42,
   "id": "40d22d52-441e-4b33-8c03-cf7bdb329157",
   "metadata": {},
   "outputs": [
    {
     "name": "stdout",
     "output_type": "stream",
     "text": [
      "device count 0"
     ]
    },
    {
     "name": "stderr",
     "output_type": "stream",
     "text": [
      "Traceback (most recent call last):\n",
      "  File \"C:\\Users\\joman\\Documents\\GitHub\\deep-text-recognition-benchmark\\train.py\", line 348, in <module>\n",
      "    train(opt)\n",
      "  File \"C:\\Users\\joman\\Documents\\GitHub\\deep-text-recognition-benchmark\\train.py\", line 234, in train\n",
      "    print(lines)\n",
      "  File \"C:\\Users\\joman\\anaconda3\\envs\\ocr2\\lib\\encodings\\cp1252.py\", line 19, in encode\n",
      "    return codecs.charmap_encode(input,self.errors,encoding_table)[0]\n",
      "UnicodeEncodeError: 'charmap' codec can't encode characters in position 0-7: character maps to <undefined>\n"
     ]
    },
    {
     "name": "stdout",
     "output_type": "stream",
     "text": [
      "\n",
      "training\n",
      "--------------------------------------------------------------------------------\n",
      "dataset_root: C:/Users/joman/Desktop/easyocr/data_thaisingle_test/data_lmdb_release/training\n",
      "opt.select_data: ['singlelinetemp']\n",
      "opt.batch_ratio: ['1']\n",
      "--------------------------------------------------------------------------------\n",
      "dataset_root:    C:/Users/joman/Desktop/easyocr/data_thaisingle_test/data_lmdb_release/training\t dataset: singlelinetemp\n",
      "sub-directory:\t/singlelinetemp\\single_test\t num samples: 22\n",
      "sub-directory:\t/singlelinetemp\\single_train\t num samples: 77\n",
      "sub-directory:\t/singlelinetemp\\single_valid\t num samples: 22\n",
      "num total samples of singlelinetemp: 121 x 1.0 (total_data_usage_ratio) = 121\n",
      "num samples of singlelinetemp per batch: 192 x 1.0 (batch_ratio) = 192\n",
      "--------------------------------------------------------------------------------\n",
      "Total_batch_size: 192 = 192\n",
      "--------------------------------------------------------------------------------\n",
      "dataset_root:    C:/Users/joman/Desktop/easyocr/data_thaisingle_test/data_lmdb_release/validation\t dataset: /\n",
      "sub-directory:\t/.\t num samples: 30\n",
      "--------------------------------------------------------------------------------\n",
      "No Transformation module specified\n",
      "model input parameters 32 100 20 1 512 256 159 40 None VGG BiLSTM CTC\n",
      "Model:\n",
      "DataParallel(\n",
      "  (module): Model(\n",
      "    (FeatureExtraction): VGG_FeatureExtractor(\n",
      "      (ConvNet): Sequential(\n",
      "        (0): Conv2d(1, 64, kernel_size=(3, 3), stride=(1, 1), padding=(1, 1))\n",
      "        (1): ReLU(inplace=True)\n",
      "        (2): MaxPool2d(kernel_size=2, stride=2, padding=0, dilation=1, ceil_mode=False)\n",
      "        (3): Conv2d(64, 128, kernel_size=(3, 3), stride=(1, 1), padding=(1, 1))\n",
      "        (4): ReLU(inplace=True)\n",
      "        (5): MaxPool2d(kernel_size=2, stride=2, padding=0, dilation=1, ceil_mode=False)\n",
      "        (6): Conv2d(128, 256, kernel_size=(3, 3), stride=(1, 1), padding=(1, 1))\n",
      "        (7): ReLU(inplace=True)\n",
      "        (8): Conv2d(256, 256, kernel_size=(3, 3), stride=(1, 1), padding=(1, 1))\n",
      "        (9): ReLU(inplace=True)\n",
      "        (10): MaxPool2d(kernel_size=(2, 1), stride=(2, 1), padding=0, dilation=1, ceil_mode=False)\n",
      "        (11): Conv2d(256, 512, kernel_size=(3, 3), stride=(1, 1), padding=(1, 1), bias=False)\n",
      "        (12): BatchNorm2d(512, eps=1e-05, momentum=0.1, affine=True, track_running_stats=True)\n",
      "        (13): ReLU(inplace=True)\n",
      "        (14): Conv2d(512, 512, kernel_size=(3, 3), stride=(1, 1), padding=(1, 1), bias=False)\n",
      "        (15): BatchNorm2d(512, eps=1e-05, momentum=0.1, affine=True, track_running_stats=True)\n",
      "        (16): ReLU(inplace=True)\n",
      "        (17): MaxPool2d(kernel_size=(2, 1), stride=(2, 1), padding=0, dilation=1, ceil_mode=False)\n",
      "        (18): Conv2d(512, 512, kernel_size=(2, 2), stride=(1, 1))\n",
      "        (19): ReLU(inplace=True)\n",
      "      )\n",
      "    )\n",
      "    (AdaptiveAvgPool): AdaptiveAvgPool2d(output_size=(None, 1))\n",
      "    (SequenceModeling): Sequential(\n",
      "      (0): BidirectionalLSTM(\n",
      "        (rnn): LSTM(512, 256, batch_first=True, bidirectional=True)\n",
      "        (linear): Linear(in_features=512, out_features=256, bias=True)\n",
      "      )\n",
      "      (1): BidirectionalLSTM(\n",
      "        (rnn): LSTM(256, 256, batch_first=True, bidirectional=True)\n",
      "        (linear): Linear(in_features=512, out_features=256, bias=True)\n",
      "      )\n",
      "    )\n",
      "    (Prediction): Linear(in_features=256, out_features=159, bias=True)\n",
      "  )\n",
      ")\n",
      "Trainable params num :  8482975\n",
      "Optimizer:\n",
      "Adadelta (\n",
      "Parameter Group 0\n",
      "    eps: 1e-08\n",
      "    lr: 1\n",
      "    rho: 0.95\n",
      "    weight_decay: 0\n",
      ")\n",
      "start training\n",
      "[1/300000] Train loss: 15.86203, Valid loss: 21.58984, Elapsed_time: 8.16836\n",
      "Current_accuracy : 20.000, Current_norm_ED  : 0.00\n",
      "Best_accuracy    : 20.000, Best_norm_ED     : 0.00\n",
      "--------------------------------------------------------------------------------\n",
      "\n",
      "Ground Truth              | Prediction                | Confidence Score & T/F\n",
      "\n",
      "--------------------------------------------------------------------------------\n",
      "\n"
     ]
    }
   ],
   "source": [
    "!python C:/Users/joman/Documents/GitHub/deep-text-recognition-benchmark/train.py \\\n",
    "--train_data C:/Users/joman/Desktop/easyocr/data_thaisingle_test/data_lmdb_release/training \\\n",
    "--valid_data C:/Users/joman/Desktop/easyocr/data_thaisingle_test/data_lmdb_release/validation \\\n",
    "--select_data singlelinetemp \\\n",
    "--batch_ratio 1 \\\n",
    "--Transformation None \\\n",
    "--FeatureExtraction VGG \\\n",
    "--SequenceModeling BiLSTM \\\n",
    "--Prediction CTC \\\n",
    "--data_filtering_off"
   ]
  },
  {
   "cell_type": "code",
   "execution_count": null,
   "id": "8fc9ce59-785e-49c6-b696-cb31df6a3ce8",
   "metadata": {},
   "outputs": [],
   "source": []
  },
  {
   "cell_type": "code",
   "execution_count": null,
   "id": "5f0e0119-3929-4eae-80ab-2142b941385e",
   "metadata": {},
   "outputs": [],
   "source": []
  },
  {
   "cell_type": "code",
   "execution_count": null,
   "id": "211b37d5-6c81-46f3-ab28-497ad6029d94",
   "metadata": {},
   "outputs": [],
   "source": []
  },
  {
   "cell_type": "code",
   "execution_count": null,
   "id": "328b574f-27c7-4538-adfc-ce7cd2d6e64f",
   "metadata": {},
   "outputs": [],
   "source": []
  },
  {
   "cell_type": "markdown",
   "id": "e2bfb86b-fb3c-4bec-bd14-225c51c81b1f",
   "metadata": {},
   "source": [
    "## Getting gt_file for images"
   ]
  },
  {
   "cell_type": "code",
   "execution_count": 38,
   "id": "e49f3a70-13e8-4445-b87b-3ee59772d40f",
   "metadata": {},
   "outputs": [],
   "source": [
    "directory = 'C:\\\\Users\\\\joman\\\\Desktop\\\\easyocr\\\\data_english_test\\\\training\\\\eval'"
   ]
  },
  {
   "cell_type": "code",
   "execution_count": 39,
   "id": "ff937dc5-9be7-4faf-b9d3-42728aad4171",
   "metadata": {},
   "outputs": [],
   "source": [
    "#getting directory of every image\n",
    "import os\n",
    "\n",
    "def get_gt(directory):\n",
    "    file_paths = []  # List which will store all of the full filepaths.\n",
    "    with open('C:\\\\Users\\\\joman\\\\Desktop\\\\easyocr\\\\data_english_test\\\\training\\\\gt_train_eval.txt', 'w+', encoding=\"utf8\") as f:\n",
    "    # Walk the tree.\n",
    "        for root, directories, files in os.walk(directory):\n",
    "            for filename in files:\n",
    "                # Join the two strings in order to form the full filepath.\n",
    "                filepath = root+'\\\\'+filename\n",
    "                name = filename.split('_')[0]\n",
    "                if name.isalpha()==True:\n",
    "                    f.write(filepath)\n",
    "                    f.write('\\t')\n",
    "                    f.write(name)\n",
    "                    f.write('\\n')\n",
    "                else:\n",
    "                    os.remove(filepath)"
   ]
  },
  {
   "cell_type": "code",
   "execution_count": 40,
   "id": "14f94096-7758-403f-8953-1f055215e029",
   "metadata": {},
   "outputs": [],
   "source": [
    "get_gt(directory)"
   ]
  },
  {
   "cell_type": "code",
   "execution_count": null,
   "id": "fe7d255f-5e03-4978-bdb7-cfbdc655f374",
   "metadata": {},
   "outputs": [],
   "source": []
  }
 ],
 "metadata": {
  "interpreter": {
   "hash": "93bd7cc08095b7e626d5ca1e1e354a365a6296e87459e27bd8065728621e1225"
  },
  "kernelspec": {
   "display_name": "Python 3.9.7 64-bit ('ocr2': conda)",
   "name": "python3"
  },
  "language_info": {
   "codemirror_mode": {
    "name": "ipython",
    "version": 3
   },
   "file_extension": ".py",
   "mimetype": "text/x-python",
   "name": "python",
   "nbconvert_exporter": "python",
   "pygments_lexer": "ipython3",
   "version": "3.9.7"
  }
 },
 "nbformat": 4,
 "nbformat_minor": 5
}
