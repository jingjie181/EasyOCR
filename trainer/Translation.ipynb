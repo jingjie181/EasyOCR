{
 "cells": [
  {
   "cell_type": "code",
   "execution_count": 2,
   "id": "a88ecc9b-e4a8-4bf2-9ab3-087a1a099618",
   "metadata": {},
   "outputs": [],
   "source": [
    "import os\n",
    "import PIL\n",
    "import re\n",
    "from db import *\n",
    "from PIL import ImageFont\n",
    "from PIL import Image\n",
    "from PIL import ImageDraw\n",
    "from google.cloud import translate_v2 as translate\n",
    "\n",
    "\n",
    "os.environ['GOOGLE_APPLICATION_CREDENTIALS'] = \"C:\\\\Users\\\\joman\\\\anaconda3\\\\envs\\\\ocr2\\\\google_key.json\""
   ]
  },
  {
   "cell_type": "code",
   "execution_count": 3,
   "id": "bc0521f2-81b3-424d-8b06-9cd95a9d96a0",
   "metadata": {},
   "outputs": [
    {
     "name": "stdout",
     "output_type": "stream",
     "text": [
      "สวัสดี\n"
     ]
    }
   ],
   "source": [
    "from google.cloud import translate_v2 as translate\n",
    "translate_client = translate.Client()\n",
    "result = translate_client.translate('hi', target_language='th')\n",
    "print(result[\"translatedText\"])"
   ]
  },
  {
   "cell_type": "markdown",
   "id": "d26c3992-d911-4e13-a045-171accf71e56",
   "metadata": {},
   "source": [
    "## Calling from DB to get raw text data"
   ]
  },
  {
   "cell_type": "code",
   "execution_count": 28,
   "id": "191c7966-504b-4e0e-b7cc-0104e91976a1",
   "metadata": {},
   "outputs": [
    {
     "data": {
      "text/html": [
       "<div>\n",
       "<style scoped>\n",
       "    .dataframe tbody tr th:only-of-type {\n",
       "        vertical-align: middle;\n",
       "    }\n",
       "\n",
       "    .dataframe tbody tr th {\n",
       "        vertical-align: top;\n",
       "    }\n",
       "\n",
       "    .dataframe thead th {\n",
       "        text-align: right;\n",
       "    }\n",
       "</style>\n",
       "<table border=\"1\" class=\"dataframe\">\n",
       "  <thead>\n",
       "    <tr style=\"text-align: right;\">\n",
       "      <th></th>\n",
       "      <th>raw_text</th>\n",
       "    </tr>\n",
       "  </thead>\n",
       "  <tbody>\n",
       "    <tr>\n",
       "      <th>0</th>\n",
       "      <td>FRANKIE'S NY WINGS INC.\\nOwned &amp; Optd by: Fran...</td>\n",
       "    </tr>\n",
       "    <tr>\n",
       "      <th>1</th>\n",
       "      <td>FRANKIE'S NY WINGS INC.\\nOwned &amp; Optd by: Fran...</td>\n",
       "    </tr>\n",
       "    <tr>\n",
       "      <th>2</th>\n",
       "      <td>FRANKIE'S NY WINGS INC.\\nOwned &amp; Optd by: Fran...</td>\n",
       "    </tr>\n",
       "    <tr>\n",
       "      <th>3</th>\n",
       "      <td>FRANKIE'S NY WINGS INC.\\nOwned &amp; Optd by: Fran...</td>\n",
       "    </tr>\n",
       "    <tr>\n",
       "      <th>4</th>\n",
       "      <td>FRANKIE'S NY WINGS INC.\\nOwned &amp; Optd by: Fran...</td>\n",
       "    </tr>\n",
       "    <tr>\n",
       "      <th>5</th>\n",
       "      <td>FRANKIE'S NY WINGS INC.\\nOwned &amp; Optd by: Fran...</td>\n",
       "    </tr>\n",
       "    <tr>\n",
       "      <th>6</th>\n",
       "      <td>FRANKIE'S NY WINGS INC.\\nOwned &amp; Optd by: Fran...</td>\n",
       "    </tr>\n",
       "    <tr>\n",
       "      <th>7</th>\n",
       "      <td>FRANKIE'S NY WINGS INC.\\nOwned &amp; Optd by: Fran...</td>\n",
       "    </tr>\n",
       "    <tr>\n",
       "      <th>8</th>\n",
       "      <td>FRANKIE'S NY WINGS INC.\\nOwned &amp; Optd by: Fran...</td>\n",
       "    </tr>\n",
       "    <tr>\n",
       "      <th>9</th>\n",
       "      <td>FRANKIE'S NY WINGS INC.\\nOwned &amp; Optd by: Fran...</td>\n",
       "    </tr>\n",
       "  </tbody>\n",
       "</table>\n",
       "</div>"
      ],
      "text/plain": [
       "                                            raw_text\n",
       "0  FRANKIE'S NY WINGS INC.\\nOwned & Optd by: Fran...\n",
       "1  FRANKIE'S NY WINGS INC.\\nOwned & Optd by: Fran...\n",
       "2  FRANKIE'S NY WINGS INC.\\nOwned & Optd by: Fran...\n",
       "3  FRANKIE'S NY WINGS INC.\\nOwned & Optd by: Fran...\n",
       "4  FRANKIE'S NY WINGS INC.\\nOwned & Optd by: Fran...\n",
       "5  FRANKIE'S NY WINGS INC.\\nOwned & Optd by: Fran...\n",
       "6  FRANKIE'S NY WINGS INC.\\nOwned & Optd by: Fran...\n",
       "7  FRANKIE'S NY WINGS INC.\\nOwned & Optd by: Fran...\n",
       "8  FRANKIE'S NY WINGS INC.\\nOwned & Optd by: Fran...\n",
       "9  FRANKIE'S NY WINGS INC.\\nOwned & Optd by: Fran..."
      ]
     },
     "execution_count": 28,
     "metadata": {},
     "output_type": "execute_result"
    }
   ],
   "source": [
    "def get_raw_text():          ## add in parameters to limit the amt of raw text\n",
    "    qstr = f\"\"\"\n",
    "    select raw_text from aimbox \n",
    "    where outlet_id=94\n",
    "    limit 10\n",
    "    \"\"\"\n",
    "    return aimbox.query(text=qstr)\n",
    "\n",
    "data = get_raw_text()\n",
    "data"
   ]
  },
  {
   "cell_type": "code",
   "execution_count": 5,
   "id": "cfa05415-ae2d-424f-a551-1d0373a083bf",
   "metadata": {},
   "outputs": [
    {
     "data": {
      "text/plain": [
       "['Aksaramatee_Regular.ttf',\n",
       " 'Athiti_Medium.ttf',\n",
       " 'ChulaNarak_Regular.ttf',\n",
       " 'Garuda.ttf',\n",
       " 'TH_Sarabun_New_Regular.ttf']"
      ]
     },
     "execution_count": 5,
     "metadata": {},
     "output_type": "execute_result"
    }
   ],
   "source": [
    "font_dir='all_data/font/'\n",
    "fonts = []\n",
    "\n",
    "for root, directories, files in os.walk(font_dir):\n",
    "        for filename in files:\n",
    "            filepath = root+'\\\\'+filename\n",
    "            name = filename.replace(' ','_')\n",
    "            new=root+'\\\\'+name\n",
    "            fonts.append(name)\n",
    "            os.rename(filepath, new)\n",
    "fonts"
   ]
  },
  {
   "cell_type": "code",
   "execution_count": 6,
   "id": "7a752e80-6d69-4c3e-9eeb-0e2d5438625c",
   "metadata": {},
   "outputs": [],
   "source": [
    "# from google.cloud import translate_v2 as translate\n",
    "# translate_client = translate.Client()\n",
    "# result = translate_client.translate('hi', target_language='th')\n",
    "# print(result[\"translatedText\"])"
   ]
  },
  {
   "cell_type": "code",
   "execution_count": 29,
   "id": "248eaa76-7339-4138-8ded-2f58f6413a22",
   "metadata": {},
   "outputs": [],
   "source": [
    "def translate_to_th_img(data, text_dir, img_dir, font_dir, labels, img_name, fonts, status): #name inclusive of txt\n",
    "    temp = data.split('\\n') #change depending on cols of data.\n",
    "    f= open(text_dir+img_name,\"w+\", encoding=\"utf-8\")\n",
    "    for x in range(len(temp)):\n",
    "        # print(i)\n",
    "        # print()\n",
    "        if temp[x] != '':\n",
    "            try:\n",
    "                translation = translate_client.translate(str(temp[x]), target_language='th')\n",
    "                f.write('\\n')\n",
    "                f.write(translation[\"translatedText\"])\n",
    "            except IndexError:\n",
    "                continue\n",
    "            except AttributeError:\n",
    "                continue\n",
    "    f.close()\n",
    "    for i in fonts:\n",
    "        font = ImageFont.truetype(font_dir+str(i), 25)\n",
    "        img_loc=img_dir+img_name+'_'+i.split('.')[0]\n",
    "        # print('img_loc: '+img_loc)\n",
    "        print(img_name+'.png', translation[\"translatedText\"])\n",
    "        # if status == 'train':\n",
    "        #     labels_train=labels_train.append({'filename':str(img_loc)+'.png', 'raw_text': data.replace('\\n', ' ')}, ignore_index=True)  #removing \\n\n",
    "        # if status == 'test':\n",
    "        labels=labels.append({'filename':img_name+'.png', 'words': data.replace('\\n', '')}, ignore_index=True)  #removing \\n\n",
    "\n",
    "        with open(text_dir+img_name, encoding=\"utf8\") as f:\n",
    "            lines = f.readlines()\n",
    "            size = os.path.getsize(text_dir+img_name)\n",
    "        empt=''\n",
    "        string=empt.join(lines)\n",
    "        img = Image.new(mode='RGB', size=(1000, int(size*0.7)), color='white')\n",
    "        d = ImageDraw.Draw(img)\n",
    "        d.text((100, 20), string, fill=(0, 0, 0), font=font)\n",
    "        img.save(img_loc+\".png\", \"PNG\")\n",
    "    return labels"
   ]
  },
  {
   "cell_type": "code",
   "execution_count": 17,
   "id": "4fdcfdd1",
   "metadata": {},
   "outputs": [
    {
     "data": {
      "text/plain": [
       "'Aksaramatee_Regular.ttf'"
      ]
     },
     "execution_count": 17,
     "metadata": {},
     "output_type": "execute_result"
    }
   ],
   "source": [
    "fonts[i]"
   ]
  },
  {
   "cell_type": "code",
   "execution_count": 30,
   "id": "7210ec68-6591-4f89-8231-b844d6a08641",
   "metadata": {},
   "outputs": [],
   "source": [
    "directory='all_data/whole/text/'\n",
    "train_dir = 'all_whole_data/data_train/'\n",
    "valid_dir = 'all_whole_data/data_valid/'\n",
    "font_dir='all_data/font/'\n",
    "labels_train = pd.DataFrame(columns=['filename', 'words'])\n",
    "labels_test = pd.DataFrame(columns=['filename', 'words'])\n",
    "labels_valid = pd.DataFrame(columns=['filename', 'words'])"
   ]
  },
  {
   "cell_type": "code",
   "execution_count": 32,
   "id": "115d48fa-75fe-4b5b-bfb5-6b56fb415a60",
   "metadata": {},
   "outputs": [
    {
     "name": "stdout",
     "output_type": "stream",
     "text": [
      "thai0.png ,1615358026\n",
      "thai0.png ,1615358026\n",
      "thai0.png ,1615358026\n",
      "thai0.png ,1615358026\n",
      "thai0.png ,1615358026\n",
      "thai1.png ,1594456795\n",
      "thai1.png ,1594456795\n",
      "thai1.png ,1594456795\n",
      "thai1.png ,1594456795\n",
      "thai1.png ,1594456795\n",
      "thai2.png ,1613376832\n",
      "thai2.png ,1613376832\n",
      "thai2.png ,1613376832\n",
      "thai2.png ,1613376832\n",
      "thai2.png ,1613376832\n",
      "thai3.png ,1615357991\n",
      "thai3.png ,1615357991\n",
      "thai3.png ,1615357991\n",
      "thai3.png ,1615357991\n",
      "thai3.png ,1615357991\n",
      "thai4.png ,1621244665\n",
      "thai4.png ,1621244665\n",
      "thai4.png ,1621244665\n",
      "thai4.png ,1621244665\n",
      "thai4.png ,1621244665\n",
      "thai5.png ,1621930872\n",
      "thai5.png ,1621930872\n",
      "thai5.png ,1621930872\n",
      "thai5.png ,1621930872\n",
      "thai5.png ,1621930872\n",
      "thai6.png ,1621930473\n",
      "thai6.png ,1621930473\n",
      "thai6.png ,1621930473\n",
      "thai6.png ,1621930473\n",
      "thai6.png ,1621930473\n",
      "thai7.png ,1628739885\n",
      "thai7.png ,1628739885\n",
      "thai7.png ,1628739885\n",
      "thai7.png ,1628739885\n",
      "thai7.png ,1628739885\n",
      "thai8.png ,1594963439\n",
      "thai8.png ,1594963439\n",
      "thai8.png ,1594963439\n",
      "thai8.png ,1594963439\n",
      "thai8.png ,1594963439\n",
      "thai9.png ,1594456762\n",
      "thai9.png ,1594456762\n",
      "thai9.png ,1594456762\n",
      "thai9.png ,1594456762\n",
      "thai9.png ,1594456762\n",
      "done\n"
     ]
    }
   ],
   "source": [
    "for i in range(len(data)):\n",
    "    valid = round(len(data)*0.15)\n",
    "    train = len(data) - valid\n",
    "    if i<=valid:\n",
    "        labels_valid=translate_to_th_img(data['raw_text'][i], directory, valid_dir, font_dir, labels_valid, 'thai'+str(i), fonts, 'test')\n",
    "    else:\n",
    "        labels_train=translate_to_th_img(data['raw_text'][i], directory, train_dir, font_dir, labels_train, 'thai'+str(i), fonts, 'train')\n",
    "\n",
    "# labels_test.to_csv('labels.csv', index=False)\n",
    "labels_train.to_csv('all_whole_data/data_train/labels.csv', index=False)\n",
    "labels_valid.to_csv('all_whole_data/data_valid/labels.csv', index=False)\n",
    "print('done')"
   ]
  },
  {
   "cell_type": "code",
   "execution_count": 10,
   "id": "795e11cc-015f-4972-92fe-cda119266c64",
   "metadata": {},
   "outputs": [],
   "source": [
    "# with open('C:/Users/joman/Desktop/easyocr/final_to_upload/gt_train.txt', 'w+', encoding=\"utf8\") as f:\n",
    "#     labels_train = pd.read_csv(train_dir+'labels.csv')\n",
    "#     for i in range(len(labels_train)):\n",
    "#         f.write(labels_train['filename'][i])\n",
    "#         f.write('\\t')\n",
    "#         f.write(labels_train['raw_text'][i])\n",
    "#         f.write('\\n')\n",
    "#     f.close()\n",
    "\n",
    "# with open('C:/Users/joman/Desktop/easyocr/final_to_upload/gt_test.txt', 'w+', encoding=\"utf8\") as f:\n",
    "#     labels_test = pd.read_csv(test_dir+'labels.csv')\n",
    "#     for i in range(len(labels_test)):\n",
    "#         f.write(labels_test['filename'][i])\n",
    "#         f.write('\\t')\n",
    "#         f.write(labels_test['raw_text'][i])\n",
    "#         f.write('\\n')\n",
    "#     f.close()\n",
    "    \n",
    "# with open('C:/Users/joman/Desktop/easyocr/final_to_upload/gt_valid.txt', 'w+', encoding=\"utf8\") as f:\n",
    "#     labels_valid = pd.read_csv(valid_dir+'labels.csv')\n",
    "#     for i in range(len(labels_valid)):\n",
    "#         f.write(labels_valid['filename'][i])\n",
    "#         f.write('\\t')\n",
    "#         f.write(labels_valid['raw_text'][i])\n",
    "#         f.write('\\n')\n",
    "#     f.close()"
   ]
  },
  {
   "cell_type": "code",
   "execution_count": 11,
   "id": "10a48997-c3ce-47d0-b35c-942bd8d2790e",
   "metadata": {},
   "outputs": [
    {
     "data": {
      "text/plain": [
       "'C:/Users/joman/Desktop/easyocr/img/test/img/thai0_Aksaramatee_Italic.png'"
      ]
     },
     "execution_count": 11,
     "metadata": {},
     "output_type": "execute_result"
    }
   ],
   "source": [
    "labels_test['filename'][1]"
   ]
  },
  {
   "cell_type": "code",
   "execution_count": null,
   "id": "90b6ee0e-9cd8-4a04-82dd-7de82a067323",
   "metadata": {},
   "outputs": [],
   "source": []
  },
  {
   "cell_type": "markdown",
   "id": "3e8fa341-c5ae-4a27-87f8-575a6722bb9f",
   "metadata": {},
   "source": [
    "## Single line text image"
   ]
  },
  {
   "cell_type": "code",
   "execution_count": 33,
   "id": "87f34e7b-e50e-41da-8a6c-e9065ac3528c",
   "metadata": {},
   "outputs": [
    {
     "data": {
      "text/html": [
       "<div>\n",
       "<style scoped>\n",
       "    .dataframe tbody tr th:only-of-type {\n",
       "        vertical-align: middle;\n",
       "    }\n",
       "\n",
       "    .dataframe tbody tr th {\n",
       "        vertical-align: top;\n",
       "    }\n",
       "\n",
       "    .dataframe thead th {\n",
       "        text-align: right;\n",
       "    }\n",
       "</style>\n",
       "<table border=\"1\" class=\"dataframe\">\n",
       "  <thead>\n",
       "    <tr style=\"text-align: right;\">\n",
       "      <th></th>\n",
       "      <th>raw_text</th>\n",
       "    </tr>\n",
       "  </thead>\n",
       "  <tbody>\n",
       "    <tr>\n",
       "      <th>0</th>\n",
       "      <td>FRANKIE'S NY WINGS INC.\\nOwned &amp; Optd by: Fran...</td>\n",
       "    </tr>\n",
       "    <tr>\n",
       "      <th>1</th>\n",
       "      <td>FRANKIE'S NY WINGS INC.\\nOwned &amp; Optd by: Fran...</td>\n",
       "    </tr>\n",
       "    <tr>\n",
       "      <th>2</th>\n",
       "      <td>FRANKIE'S NY WINGS INC.\\nOwned &amp; Optd by: Fran...</td>\n",
       "    </tr>\n",
       "    <tr>\n",
       "      <th>3</th>\n",
       "      <td>FRANKIE'S NY WINGS INC.\\nOwned &amp; Optd by: Fran...</td>\n",
       "    </tr>\n",
       "    <tr>\n",
       "      <th>4</th>\n",
       "      <td>FRANKIE'S NY WINGS INC.\\nOwned &amp; Optd by: Fran...</td>\n",
       "    </tr>\n",
       "    <tr>\n",
       "      <th>5</th>\n",
       "      <td>FRANKIE'S NY WINGS INC.\\nOwned &amp; Optd by: Fran...</td>\n",
       "    </tr>\n",
       "    <tr>\n",
       "      <th>6</th>\n",
       "      <td>FRANKIE'S NY WINGS INC.\\nOwned &amp; Optd by: Fran...</td>\n",
       "    </tr>\n",
       "    <tr>\n",
       "      <th>7</th>\n",
       "      <td>FRANKIE'S NY WINGS INC.\\nOwned &amp; Optd by: Fran...</td>\n",
       "    </tr>\n",
       "    <tr>\n",
       "      <th>8</th>\n",
       "      <td>FRANKIE'S NY WINGS INC.\\nOwned &amp; Optd by: Fran...</td>\n",
       "    </tr>\n",
       "    <tr>\n",
       "      <th>9</th>\n",
       "      <td>FRANKIE'S NY WINGS INC.\\nOwned &amp; Optd by: Fran...</td>\n",
       "    </tr>\n",
       "  </tbody>\n",
       "</table>\n",
       "</div>"
      ],
      "text/plain": [
       "                                            raw_text\n",
       "0  FRANKIE'S NY WINGS INC.\\nOwned & Optd by: Fran...\n",
       "1  FRANKIE'S NY WINGS INC.\\nOwned & Optd by: Fran...\n",
       "2  FRANKIE'S NY WINGS INC.\\nOwned & Optd by: Fran...\n",
       "3  FRANKIE'S NY WINGS INC.\\nOwned & Optd by: Fran...\n",
       "4  FRANKIE'S NY WINGS INC.\\nOwned & Optd by: Fran...\n",
       "5  FRANKIE'S NY WINGS INC.\\nOwned & Optd by: Fran...\n",
       "6  FRANKIE'S NY WINGS INC.\\nOwned & Optd by: Fran...\n",
       "7  FRANKIE'S NY WINGS INC.\\nOwned & Optd by: Fran...\n",
       "8  FRANKIE'S NY WINGS INC.\\nOwned & Optd by: Fran...\n",
       "9  FRANKIE'S NY WINGS INC.\\nOwned & Optd by: Fran..."
      ]
     },
     "execution_count": 33,
     "metadata": {},
     "output_type": "execute_result"
    }
   ],
   "source": [
    "data"
   ]
  },
  {
   "cell_type": "code",
   "execution_count": 34,
   "id": "cb0b03b9-02d4-458e-8310-072292dc2825",
   "metadata": {},
   "outputs": [
    {
     "data": {
      "text/html": [
       "<div>\n",
       "<style scoped>\n",
       "    .dataframe tbody tr th:only-of-type {\n",
       "        vertical-align: middle;\n",
       "    }\n",
       "\n",
       "    .dataframe tbody tr th {\n",
       "        vertical-align: top;\n",
       "    }\n",
       "\n",
       "    .dataframe thead th {\n",
       "        text-align: right;\n",
       "    }\n",
       "</style>\n",
       "<table border=\"1\" class=\"dataframe\">\n",
       "  <thead>\n",
       "    <tr style=\"text-align: right;\">\n",
       "      <th></th>\n",
       "      <th>raw_text</th>\n",
       "    </tr>\n",
       "  </thead>\n",
       "  <tbody>\n",
       "    <tr>\n",
       "      <th>0</th>\n",
       "      <td>FRANKIE'S NY WINGS INC.\\nOwned &amp; Optd by: Fran...</td>\n",
       "    </tr>\n",
       "    <tr>\n",
       "      <th>1</th>\n",
       "      <td>FRANKIE'S NY WINGS INC.\\nOwned &amp; Optd by: Fran...</td>\n",
       "    </tr>\n",
       "    <tr>\n",
       "      <th>2</th>\n",
       "      <td>FRANKIE'S NY WINGS INC.\\nOwned &amp; Optd by: Fran...</td>\n",
       "    </tr>\n",
       "  </tbody>\n",
       "</table>\n",
       "</div>"
      ],
      "text/plain": [
       "                                            raw_text\n",
       "0  FRANKIE'S NY WINGS INC.\\nOwned & Optd by: Fran...\n",
       "1  FRANKIE'S NY WINGS INC.\\nOwned & Optd by: Fran...\n",
       "2  FRANKIE'S NY WINGS INC.\\nOwned & Optd by: Fran..."
      ]
     },
     "execution_count": 34,
     "metadata": {},
     "output_type": "execute_result"
    }
   ],
   "source": [
    "curr = data[0:3]\n",
    "curr"
   ]
  },
  {
   "cell_type": "markdown",
   "id": "e153c41d-4376-40cf-b290-68878141ce90",
   "metadata": {},
   "source": [
    "Every line is an image by itself. --> split acc to '\\n' and run translate_to_th"
   ]
  },
  {
   "cell_type": "code",
   "execution_count": 9,
   "id": "470c77b9-77a5-4070-973d-4d644231fafd",
   "metadata": {},
   "outputs": [],
   "source": [
    "# curr['raw_text'][0].split('\\n')"
   ]
  },
  {
   "cell_type": "code",
   "execution_count": 10,
   "id": "17a77d74-8585-45c3-bdcf-25b365678dc4",
   "metadata": {},
   "outputs": [
    {
     "data": {
      "text/plain": [
       "9"
      ]
     },
     "execution_count": 10,
     "metadata": {},
     "output_type": "execute_result"
    }
   ],
   "source": [
    "round(63*0.15)"
   ]
  },
  {
   "cell_type": "code",
   "execution_count": 13,
   "id": "4a0355b4-7f9d-4c84-857f-f6fe0cb2487e",
   "metadata": {},
   "outputs": [
    {
     "name": "stdout",
     "output_type": "stream",
     "text": [
      "แฟรงกี้ส์ นิวยอร์ก วิงส์ อิงค์\n"
     ]
    }
   ],
   "source": [
    "curr['raw_text'][0].split('\\n')[0]\n",
    "\n",
    "translatessss = translate.Client()\n",
    "result = translatessss.translate(curr['raw_text'][0].split('\\n')[0], target_language='th')\n",
    "print(result[\"translatedText\"])"
   ]
  },
  {
   "cell_type": "code",
   "execution_count": 53,
   "id": "e1c4bdab-c091-423b-99c1-8c23ccb5e595",
   "metadata": {},
   "outputs": [],
   "source": [
    "def translate_to_th_img_single(data, text_dir, img_dir, font_dir, labels, img_name, fonts, status): #name inclusive of txt\n",
    "    temp = data.split('\\n') #change depending on cols of data.\n",
    "    f= open(text_dir+img_name,\"w+\", encoding=\"utf-8\")\n",
    "    for x in range(len(temp)):\n",
    "        # print(i)\n",
    "        # print()\n",
    "        if temp[x] != '':\n",
    "            string=re.sub(r'[\\W_]+', ' ', temp[x])#.replace(' ', '') ## removing non-alphanumeric and spaces in the sentence\n",
    "            try:\n",
    "                translation = translate_client.translate(string, target_language='th')\n",
    "                f.write(translation[\"translatedText\"])\n",
    "            except IndexError:\n",
    "                continue\n",
    "            except AttributeError:\n",
    "                continue\n",
    "    f.close()\n",
    "    for i in fonts:\n",
    "        font = ImageFont.truetype(font_dir+str(i), 25)\n",
    "        img_loc=img_dir+img_name+'_'+i.split('.')[0]\n",
    "        # print('img_loc: '+img_loc)\n",
    "        print(str(img_loc))\n",
    "        # if status == 'train':\n",
    "        #     labels_train=labels_train.append({'filename':str(img_loc)+'.png', 'raw_text': data.replace('\\n', ' ')}, ignore_index=True)  #removing \\n\n",
    "        # if status == 'test':\n",
    "        print(img_name, translation[\"translatedText\"])\n",
    "        labels=labels.append({'filename':img_name+'.png', 'words': translation[\"translatedText\"]}, ignore_index=True)  #removing \\n\n",
    "\n",
    "        with open(text_dir+img_name, encoding=\"utf8\") as f:\n",
    "            lines = f.readlines()\n",
    "            size = os.path.getsize(text_dir+img_name)\n",
    "        empt=''\n",
    "        string=empt.join(lines)\n",
    "        img = Image.new(mode='RGB', size=(1000, 100), color='white')\n",
    "        d = ImageDraw.Draw(img)\n",
    "        d.text((50, 20), string, fill=(0, 0, 0), font=font)\n",
    "        img.save(img_loc+\".png\", \"PNG\")\n",
    "    # labels.rename(columns={'raw_text':'words'}, inplace=True)\n",
    "    return labels"
   ]
  },
  {
   "cell_type": "code",
   "execution_count": null,
   "id": "89b58750",
   "metadata": {},
   "outputs": [],
   "source": []
  },
  {
   "cell_type": "code",
   "execution_count": 54,
   "id": "707bb1dc-ce06-49cc-a705-085199163cd3",
   "metadata": {},
   "outputs": [],
   "source": [
    "# transl = translate_client.translate('Fort Bonifacio Taguig City', target_language='th')\n",
    "# trans = transl[\"translatedText\"]\n",
    "# trans"
   ]
  },
  {
   "cell_type": "code",
   "execution_count": 25,
   "id": "b2177359-9d3b-4d94-b969-9afe322829c7",
   "metadata": {},
   "outputs": [],
   "source": [
    "# fonttt = ImageFont.truetype('C:\\\\Users\\\\joman\\\\Desktop\\\\easyocr\\\\font\\\\Aksaramatee_Bold.ttf', 30)\n",
    "# img = Image.new(mode='RGB', size=(1000, 70), color='white')\n",
    "# d = ImageDraw.Draw(img)\n",
    "# string = 'Bonifacio Taguig City'\n",
    "# d.text((100, 20), string.replace(' ', ''), fill=(0, 0, 0), font=fonttt)\n",
    "# img.save('C:\\\\Users\\\\joman\\\\Desktop\\\\easyocr\\\\single_line\\\\ho'+\".png\", \"PNG\")"
   ]
  },
  {
   "cell_type": "code",
   "execution_count": 40,
   "metadata": {},
   "outputs": [
    {
     "data": {
      "text/plain": [
       "['Aksaramatee_Regular.ttf', 'Athiti_Medium.ttf']"
      ]
     },
     "execution_count": 40,
     "metadata": {},
     "output_type": "execute_result"
    }
   ],
   "source": [
    "fonts_temp = fonts[:2]\n",
    "fonts_temp"
   ]
  },
  {
   "cell_type": "code",
   "execution_count": 54,
   "id": "144518a8-8de7-4469-b372-588f717f5e17",
   "metadata": {},
   "outputs": [],
   "source": [
    "single_text_dir = 'all_data/single_line/text/'\n",
    "single_valid_img = 'all_single_data/data_valid/'\n",
    "single_train_img = 'all_single_data/data_train/'\n",
    "font_dir='all_data/font/'\n",
    "\n",
    "single_labels_valid = pd.DataFrame(columns=['filename', 'words'])\n",
    "single_labels_train = pd.DataFrame(columns=['filename', 'words'])"
   ]
  },
  {
   "cell_type": "code",
   "execution_count": 55,
   "id": "ea063f32-20b2-4bfe-81be-f29ada1dc61c",
   "metadata": {},
   "outputs": [
    {
     "name": "stdout",
     "output_type": "stream",
     "text": [
      "all_single_data/data_valid/0_thai0_Aksaramatee_Regular\n",
      "0_thai0 แฟรงกี้ เอส นิวยอร์ก วิงส์ อิงค์\n"
     ]
    },
    {
     "ename": "FileNotFoundError",
     "evalue": "[Errno 2] No such file or directory: 'all_single_data/data_valid/0_thai0_Aksaramatee_Regular.png'",
     "output_type": "error",
     "traceback": [
      "\u001b[1;31m---------------------------------------------------------------------------\u001b[0m",
      "\u001b[1;31mFileNotFoundError\u001b[0m                         Traceback (most recent call last)",
      "\u001b[1;32m~\\AppData\\Local\\Temp/ipykernel_11680/602167936.py\u001b[0m in \u001b[0;36m<module>\u001b[1;34m\u001b[0m\n\u001b[0;32m      5\u001b[0m         \u001b[1;32mif\u001b[0m \u001b[0mtemp\u001b[0m\u001b[1;33m[\u001b[0m\u001b[0mx\u001b[0m\u001b[1;33m]\u001b[0m \u001b[1;33m!=\u001b[0m \u001b[1;34m''\u001b[0m\u001b[1;33m:\u001b[0m\u001b[1;33m\u001b[0m\u001b[1;33m\u001b[0m\u001b[0m\n\u001b[0;32m      6\u001b[0m             \u001b[1;32mif\u001b[0m \u001b[0mx\u001b[0m\u001b[1;33m<\u001b[0m\u001b[0mvalid\u001b[0m\u001b[1;33m:\u001b[0m\u001b[1;33m\u001b[0m\u001b[1;33m\u001b[0m\u001b[0m\n\u001b[1;32m----> 7\u001b[1;33m                 \u001b[0msingle_labels_valid\u001b[0m \u001b[1;33m=\u001b[0m \u001b[0mtranslate_to_th_img_single\u001b[0m\u001b[1;33m(\u001b[0m\u001b[0mtemp\u001b[0m\u001b[1;33m[\u001b[0m\u001b[0mx\u001b[0m\u001b[1;33m]\u001b[0m\u001b[1;33m,\u001b[0m \u001b[0msingle_text_dir\u001b[0m\u001b[1;33m,\u001b[0m \u001b[0msingle_valid_img\u001b[0m\u001b[1;33m,\u001b[0m \u001b[0mfont_dir\u001b[0m\u001b[1;33m,\u001b[0m \u001b[0msingle_labels_valid\u001b[0m\u001b[1;33m,\u001b[0m \u001b[0mstr\u001b[0m\u001b[1;33m(\u001b[0m\u001b[0mi\u001b[0m\u001b[1;33m)\u001b[0m\u001b[1;33m+\u001b[0m\u001b[1;34m'_thai'\u001b[0m\u001b[1;33m+\u001b[0m\u001b[0mstr\u001b[0m\u001b[1;33m(\u001b[0m\u001b[0mx\u001b[0m\u001b[1;33m)\u001b[0m\u001b[1;33m,\u001b[0m \u001b[0mfonts_temp\u001b[0m\u001b[1;33m,\u001b[0m \u001b[1;34m'valid'\u001b[0m\u001b[1;33m)\u001b[0m\u001b[1;33m\u001b[0m\u001b[1;33m\u001b[0m\u001b[0m\n\u001b[0m\u001b[0;32m      8\u001b[0m             \u001b[1;32melse\u001b[0m\u001b[1;33m:\u001b[0m \u001b[1;31m#train_train\u001b[0m\u001b[1;33m\u001b[0m\u001b[1;33m\u001b[0m\u001b[0m\n\u001b[0;32m      9\u001b[0m                 \u001b[0msingle_labels_train\u001b[0m \u001b[1;33m=\u001b[0m \u001b[0mtranslate_to_th_img_single\u001b[0m\u001b[1;33m(\u001b[0m\u001b[0mtemp\u001b[0m\u001b[1;33m[\u001b[0m\u001b[0mx\u001b[0m\u001b[1;33m]\u001b[0m\u001b[1;33m,\u001b[0m \u001b[0msingle_text_dir\u001b[0m\u001b[1;33m,\u001b[0m \u001b[0msingle_train_img\u001b[0m\u001b[1;33m,\u001b[0m \u001b[0mfont_dir\u001b[0m\u001b[1;33m,\u001b[0m \u001b[0msingle_labels_train\u001b[0m\u001b[1;33m,\u001b[0m \u001b[0mstr\u001b[0m\u001b[1;33m(\u001b[0m\u001b[0mi\u001b[0m\u001b[1;33m)\u001b[0m\u001b[1;33m+\u001b[0m\u001b[1;34m'_thai'\u001b[0m\u001b[1;33m+\u001b[0m\u001b[0mstr\u001b[0m\u001b[1;33m(\u001b[0m\u001b[0mx\u001b[0m\u001b[1;33m)\u001b[0m\u001b[1;33m,\u001b[0m \u001b[0mfonts_temp\u001b[0m\u001b[1;33m,\u001b[0m \u001b[1;34m'train'\u001b[0m\u001b[1;33m)\u001b[0m\u001b[1;33m\u001b[0m\u001b[1;33m\u001b[0m\u001b[0m\n",
      "\u001b[1;32m~\\AppData\\Local\\Temp/ipykernel_11680/992243381.py\u001b[0m in \u001b[0;36mtranslate_to_th_img_single\u001b[1;34m(data, text_dir, img_dir, font_dir, labels, img_name, fonts, status)\u001b[0m\n\u001b[0;32m     35\u001b[0m         \u001b[0md\u001b[0m \u001b[1;33m=\u001b[0m \u001b[0mImageDraw\u001b[0m\u001b[1;33m.\u001b[0m\u001b[0mDraw\u001b[0m\u001b[1;33m(\u001b[0m\u001b[0mimg\u001b[0m\u001b[1;33m)\u001b[0m\u001b[1;33m\u001b[0m\u001b[1;33m\u001b[0m\u001b[0m\n\u001b[0;32m     36\u001b[0m         \u001b[0md\u001b[0m\u001b[1;33m.\u001b[0m\u001b[0mtext\u001b[0m\u001b[1;33m(\u001b[0m\u001b[1;33m(\u001b[0m\u001b[1;36m50\u001b[0m\u001b[1;33m,\u001b[0m \u001b[1;36m20\u001b[0m\u001b[1;33m)\u001b[0m\u001b[1;33m,\u001b[0m \u001b[0mstring\u001b[0m\u001b[1;33m,\u001b[0m \u001b[0mfill\u001b[0m\u001b[1;33m=\u001b[0m\u001b[1;33m(\u001b[0m\u001b[1;36m0\u001b[0m\u001b[1;33m,\u001b[0m \u001b[1;36m0\u001b[0m\u001b[1;33m,\u001b[0m \u001b[1;36m0\u001b[0m\u001b[1;33m)\u001b[0m\u001b[1;33m,\u001b[0m \u001b[0mfont\u001b[0m\u001b[1;33m=\u001b[0m\u001b[0mfont\u001b[0m\u001b[1;33m)\u001b[0m\u001b[1;33m\u001b[0m\u001b[1;33m\u001b[0m\u001b[0m\n\u001b[1;32m---> 37\u001b[1;33m         \u001b[0mimg\u001b[0m\u001b[1;33m.\u001b[0m\u001b[0msave\u001b[0m\u001b[1;33m(\u001b[0m\u001b[0mimg_loc\u001b[0m\u001b[1;33m+\u001b[0m\u001b[1;34m\".png\"\u001b[0m\u001b[1;33m,\u001b[0m \u001b[1;34m\"PNG\"\u001b[0m\u001b[1;33m)\u001b[0m\u001b[1;33m\u001b[0m\u001b[1;33m\u001b[0m\u001b[0m\n\u001b[0m\u001b[0;32m     38\u001b[0m     \u001b[1;31m# labels.rename(columns={'raw_text':'words'}, inplace=True)\u001b[0m\u001b[1;33m\u001b[0m\u001b[1;33m\u001b[0m\u001b[0m\n\u001b[0;32m     39\u001b[0m     \u001b[1;32mreturn\u001b[0m \u001b[0mlabels\u001b[0m\u001b[1;33m\u001b[0m\u001b[1;33m\u001b[0m\u001b[0m\n",
      "\u001b[1;32m~\\AppData\\Roaming\\Python\\Python39\\site-packages\\PIL\\Image.py\u001b[0m in \u001b[0;36msave\u001b[1;34m(self, fp, format, **params)\u001b[0m\n\u001b[0;32m   2167\u001b[0m                 \u001b[0mfp\u001b[0m \u001b[1;33m=\u001b[0m \u001b[0mbuiltins\u001b[0m\u001b[1;33m.\u001b[0m\u001b[0mopen\u001b[0m\u001b[1;33m(\u001b[0m\u001b[0mfilename\u001b[0m\u001b[1;33m,\u001b[0m \u001b[1;34m\"r+b\"\u001b[0m\u001b[1;33m)\u001b[0m\u001b[1;33m\u001b[0m\u001b[1;33m\u001b[0m\u001b[0m\n\u001b[0;32m   2168\u001b[0m             \u001b[1;32melse\u001b[0m\u001b[1;33m:\u001b[0m\u001b[1;33m\u001b[0m\u001b[1;33m\u001b[0m\u001b[0m\n\u001b[1;32m-> 2169\u001b[1;33m                 \u001b[0mfp\u001b[0m \u001b[1;33m=\u001b[0m \u001b[0mbuiltins\u001b[0m\u001b[1;33m.\u001b[0m\u001b[0mopen\u001b[0m\u001b[1;33m(\u001b[0m\u001b[0mfilename\u001b[0m\u001b[1;33m,\u001b[0m \u001b[1;34m\"w+b\"\u001b[0m\u001b[1;33m)\u001b[0m\u001b[1;33m\u001b[0m\u001b[1;33m\u001b[0m\u001b[0m\n\u001b[0m\u001b[0;32m   2170\u001b[0m \u001b[1;33m\u001b[0m\u001b[0m\n\u001b[0;32m   2171\u001b[0m         \u001b[1;32mtry\u001b[0m\u001b[1;33m:\u001b[0m\u001b[1;33m\u001b[0m\u001b[1;33m\u001b[0m\u001b[0m\n",
      "\u001b[1;31mFileNotFoundError\u001b[0m: [Errno 2] No such file or directory: 'all_single_data/data_valid/0_thai0_Aksaramatee_Regular.png'"
     ]
    }
   ],
   "source": [
    "for i in range(len(curr)): \n",
    "    temp = curr['raw_text'][i].split('\\n')\n",
    "    for x in range(len(temp)):\n",
    "        valid = round(len(temp)*0.15)\n",
    "        if temp[x] != '':\n",
    "            if x<valid:\n",
    "                single_labels_valid = translate_to_th_img_single(temp[x], single_text_dir, single_valid_img, font_dir, single_labels_valid, str(i)+'_thai'+str(x), fonts_temp, 'valid')\n",
    "            else: #train_train\n",
    "                single_labels_train = translate_to_th_img_single(temp[x], single_text_dir, single_train_img, font_dir, single_labels_train, str(i)+'_thai'+str(x), fonts_temp, 'train')\n",
    "\n",
    "                \n",
    "                \n",
    "single_labels_valid.to_csv('all_single_data/data_valid/labels.csv', index=False)\n",
    "single_labels_train.to_csv('all_single_data/data_train/labels.csv', index=False)\n",
    "print('done')            "
   ]
  },
  {
   "cell_type": "code",
   "execution_count": 31,
   "id": "67b1b091-4943-411c-a73f-5743db5e14bf",
   "metadata": {},
   "outputs": [],
   "source": [
    "# single_labels_train = single_labels_ttest.append(single_labels_tvalid).append(single_labels_ttrain).rename(columns={'raw_text':'words'})\n",
    "# single_labels_train\n",
    "# single_labels_train.to_csv('C:/Users/joman/Desktop/easyocr/data_thaisingle_test/data_lmdb_release/training/singlelinetemp\\\\single_test\\\\labels.csv', index=False)"
   ]
  },
  {
   "cell_type": "code",
   "execution_count": 26,
   "id": "f0d7dddc-50ec-4ac1-8818-d4d0f0d4c6d2",
   "metadata": {},
   "outputs": [],
   "source": [
    "# with open('C:\\\\Users\\\\joman\\\\Desktop\\\\easyocr\\\\single_line\\\\data_test\\\\gt_test.txt', 'w+', encoding=\"utf8\") as f:\n",
    "#     for i in range(len(single_labels_test)):\n",
    "#         f.write(single_labels_test['filename'][i])\n",
    "#         f.write('\\t')\n",
    "#         f.write(single_labels_test['words'][i])\n",
    "#         f.write('\\n')\n",
    "#     f.close()\n",
    "    \n",
    "# with open('C:\\\\Users\\\\joman\\\\Desktop\\\\easyocr\\\\single_line\\\\data_valid\\\\gt_valid.txt', 'w+', encoding=\"utf8\") as f:\n",
    "#     for i in range(len(single_labels_valid)):\n",
    "#         f.write(single_labels_valid['filename'][i])\n",
    "#         f.write('\\t')\n",
    "#         f.write(single_labels_valid['words'][i])\n",
    "#         f.write('\\n')\n",
    "#     f.close()\n",
    "    \n",
    "\n",
    "# with open('C:\\\\Users\\\\joman\\\\Desktop\\\\easyocr\\\\single_line\\\\data_train\\\\gt_ttrain.txt', 'w+', encoding=\"utf8\") as f:\n",
    "#     for i in range(len(single_labels_ttrain)):\n",
    "#         f.write(single_labels_ttrain['filename'][i])\n",
    "#         f.write('\\t')\n",
    "#         f.write(single_labels_ttrain['words'][i])\n",
    "#         f.write('\\n')\n",
    "#     f.close()\n",
    "    \n",
    "# with open('C:\\\\Users\\\\joman\\\\Desktop\\\\easyocr\\\\single_line\\\\data_train\\\\gt_tvalid.txt', 'w+', encoding=\"utf8\") as f:\n",
    "#     for i in range(len(single_labels_tvalid)):\n",
    "#         f.write(single_labels_tvalid['filename'][i])\n",
    "#         f.write('\\t')\n",
    "#         f.write(single_labels_tvalid['words'][i])\n",
    "#         f.write('\\n')\n",
    "#     f.close()\n",
    "    \n",
    "# with open('C:\\\\Users\\\\joman\\\\Desktop\\\\easyocr\\\\single_line\\\\data_train\\\\gt_ttest.txt', 'w+', encoding=\"utf8\") as f:\n",
    "#     for i in range(len(single_labels_ttest)):\n",
    "#         f.write(single_labels_ttest['filename'][i])\n",
    "#         f.write('\\t')\n",
    "#         f.write(single_labels_ttest['words'][i])\n",
    "#         f.write('\\n')\n",
    "#     f.close()"
   ]
  },
  {
   "cell_type": "code",
   "execution_count": 35,
   "id": "c6140dfe-97a2-466a-b630-9ac7385f1556",
   "metadata": {},
   "outputs": [
    {
     "data": {
      "text/plain": [
       "['0123456789abcdefghijklmnopqrstuvwxyzกขฃคฅฆงจฉชซฌญฎฏฐฑฒณดตถทธนบปผฝพฟภมยรลวศษสหฬอฮอะอิอึอุเอะแอะโอะเอาะเออะเอียะเอือะอัวะอำไอใอเอาอาอีอือูเอแอโอออเออเอียเอืออัว']"
      ]
     },
     "execution_count": 35,
     "metadata": {},
     "output_type": "execute_result"
    }
   ],
   "source": [
    "char_loaded = open('C:\\\\Users\\\\joman\\\\Desktop\\\\easyocr\\\\characters.txt', \"r\", encoding=\"utf-8\")\n",
    "lines = char_loaded.readlines()\n",
    "lines"
   ]
  },
  {
   "cell_type": "markdown",
   "id": "d337b017-16e7-4ff2-8683-a2beda41d31c",
   "metadata": {},
   "source": [
    "## CLI for creation of lmdb dataset"
   ]
  },
  {
   "cell_type": "code",
   "execution_count": 36,
   "id": "ac4f913c-784b-4487-b612-2e0b5ac9bd7c",
   "metadata": {},
   "outputs": [],
   "source": [
    "!cd C:/Users/joman/Documents/GitHub/deep-text-recognition-benchmark"
   ]
  },
  {
   "cell_type": "code",
   "execution_count": 27,
   "id": "107be1d0-ec07-41b6-9948-f7c1efd9b54c",
   "metadata": {},
   "outputs": [
    {
     "name": "stdout",
     "output_type": "stream",
     "text": [
      "Created dataset with 28 samples\n"
     ]
    }
   ],
   "source": [
    "!python C:/Users/joman/Documents/GitHub/deep-text-recognition-benchmark/create_lmdb_dataset.py \\\n",
    "--inputPath C:/Users/joman/Desktop/easyocr/single_line/data_test/ \\\n",
    "--gtFile C:/Users/joman/Desktop/easyocr/single_line/data_test/gt_test.txt \\\n",
    "--outputPath C:/Users/joman/Desktop/easyocr/data_thaisingle_test/data_lmdb_release/evaluation/singlelineeval/"
   ]
  },
  {
   "cell_type": "code",
   "execution_count": 28,
   "id": "882d564f-922a-4074-8833-6c18cec91e08",
   "metadata": {},
   "outputs": [
    {
     "name": "stdout",
     "output_type": "stream",
     "text": [
      "Created dataset with 30 samples\n"
     ]
    }
   ],
   "source": [
    "!python C:/Users/joman/Documents/GitHub/deep-text-recognition-benchmark/create_lmdb_dataset.py \\\n",
    "--inputPath C:/Users/joman/Desktop/easyocr/single_line/data_valid/ \\\n",
    "--gtFile C:/Users/joman/Desktop/easyocr/single_line/data_valid/gt_valid.txt \\\n",
    "--outputPath C:/Users/joman/Desktop/easyocr/data_thaisingle_test/data_lmdb_release/validation/"
   ]
  },
  {
   "cell_type": "code",
   "execution_count": 29,
   "id": "8be0511c-cea3-4555-ac96-0213ffbe6363",
   "metadata": {},
   "outputs": [
    {
     "name": "stdout",
     "output_type": "stream",
     "text": [
      "Created dataset with 22 samples\n"
     ]
    }
   ],
   "source": [
    "!python C:/Users/joman/Documents/GitHub/deep-text-recognition-benchmark/create_lmdb_dataset.py \\\n",
    "--inputPath C:/Users/joman/Desktop/easyocr/single_line/data_train/ \\\n",
    "--gtFile C:/Users/joman/Desktop/easyocr/single_line/data_train/gt_ttest.txt \\\n",
    "--outputPath C:/Users/joman/Desktop/easyocr/data_thaisingle_test/data_lmdb_release/training/singlelinetemp/single_test/"
   ]
  },
  {
   "cell_type": "code",
   "execution_count": 30,
   "id": "d784bfc9-0b07-400a-9f2e-90453d413104",
   "metadata": {},
   "outputs": [
    {
     "name": "stdout",
     "output_type": "stream",
     "text": [
      "Created dataset with 77 samples\n"
     ]
    }
   ],
   "source": [
    "!python C:/Users/joman/Documents/GitHub/deep-text-recognition-benchmark/create_lmdb_dataset.py \\\n",
    "--inputPath C:/Users/joman/Desktop/easyocr/single_line/data_train/ \\\n",
    "--gtFile C:/Users/joman/Desktop/easyocr/single_line/data_train/gt_ttrain.txt \\\n",
    "--outputPath C:/Users/joman/Desktop/easyocr/data_thaisingle_test/data_lmdb_release/training/singlelinetemp/single_train/"
   ]
  },
  {
   "cell_type": "code",
   "execution_count": 31,
   "id": "205d7c28-00af-42a1-bcc5-f299739a4d7c",
   "metadata": {},
   "outputs": [
    {
     "name": "stdout",
     "output_type": "stream",
     "text": [
      "Created dataset with 22 samples\n"
     ]
    }
   ],
   "source": [
    "!python C:/Users/joman/Documents/GitHub/deep-text-recognition-benchmark/create_lmdb_dataset.py \\\n",
    "--inputPath C:/Users/joman/Desktop/easyocr/single_line/data_train/ \\\n",
    "--gtFile C:/Users/joman/Desktop/easyocr/single_line/data_train/gt_tvalid.txt \\\n",
    "--outputPath C:/Users/joman/Desktop/easyocr/data_thaisingle_test/data_lmdb_release/training/singlelinetemp/single_valid/ "
   ]
  },
  {
   "cell_type": "code",
   "execution_count": 42,
   "id": "40d22d52-441e-4b33-8c03-cf7bdb329157",
   "metadata": {},
   "outputs": [
    {
     "name": "stdout",
     "output_type": "stream",
     "text": [
      "device count 0"
     ]
    },
    {
     "name": "stderr",
     "output_type": "stream",
     "text": [
      "Traceback (most recent call last):\n",
      "  File \"C:\\Users\\joman\\Documents\\GitHub\\deep-text-recognition-benchmark\\train.py\", line 348, in <module>\n",
      "    train(opt)\n",
      "  File \"C:\\Users\\joman\\Documents\\GitHub\\deep-text-recognition-benchmark\\train.py\", line 234, in train\n",
      "    print(lines)\n",
      "  File \"C:\\Users\\joman\\anaconda3\\envs\\ocr2\\lib\\encodings\\cp1252.py\", line 19, in encode\n",
      "    return codecs.charmap_encode(input,self.errors,encoding_table)[0]\n",
      "UnicodeEncodeError: 'charmap' codec can't encode characters in position 0-7: character maps to <undefined>\n"
     ]
    },
    {
     "name": "stdout",
     "output_type": "stream",
     "text": [
      "\n",
      "training\n",
      "--------------------------------------------------------------------------------\n",
      "dataset_root: C:/Users/joman/Desktop/easyocr/data_thaisingle_test/data_lmdb_release/training\n",
      "opt.select_data: ['singlelinetemp']\n",
      "opt.batch_ratio: ['1']\n",
      "--------------------------------------------------------------------------------\n",
      "dataset_root:    C:/Users/joman/Desktop/easyocr/data_thaisingle_test/data_lmdb_release/training\t dataset: singlelinetemp\n",
      "sub-directory:\t/singlelinetemp\\single_test\t num samples: 22\n",
      "sub-directory:\t/singlelinetemp\\single_train\t num samples: 77\n",
      "sub-directory:\t/singlelinetemp\\single_valid\t num samples: 22\n",
      "num total samples of singlelinetemp: 121 x 1.0 (total_data_usage_ratio) = 121\n",
      "num samples of singlelinetemp per batch: 192 x 1.0 (batch_ratio) = 192\n",
      "--------------------------------------------------------------------------------\n",
      "Total_batch_size: 192 = 192\n",
      "--------------------------------------------------------------------------------\n",
      "dataset_root:    C:/Users/joman/Desktop/easyocr/data_thaisingle_test/data_lmdb_release/validation\t dataset: /\n",
      "sub-directory:\t/.\t num samples: 30\n",
      "--------------------------------------------------------------------------------\n",
      "No Transformation module specified\n",
      "model input parameters 32 100 20 1 512 256 159 40 None VGG BiLSTM CTC\n",
      "Model:\n",
      "DataParallel(\n",
      "  (module): Model(\n",
      "    (FeatureExtraction): VGG_FeatureExtractor(\n",
      "      (ConvNet): Sequential(\n",
      "        (0): Conv2d(1, 64, kernel_size=(3, 3), stride=(1, 1), padding=(1, 1))\n",
      "        (1): ReLU(inplace=True)\n",
      "        (2): MaxPool2d(kernel_size=2, stride=2, padding=0, dilation=1, ceil_mode=False)\n",
      "        (3): Conv2d(64, 128, kernel_size=(3, 3), stride=(1, 1), padding=(1, 1))\n",
      "        (4): ReLU(inplace=True)\n",
      "        (5): MaxPool2d(kernel_size=2, stride=2, padding=0, dilation=1, ceil_mode=False)\n",
      "        (6): Conv2d(128, 256, kernel_size=(3, 3), stride=(1, 1), padding=(1, 1))\n",
      "        (7): ReLU(inplace=True)\n",
      "        (8): Conv2d(256, 256, kernel_size=(3, 3), stride=(1, 1), padding=(1, 1))\n",
      "        (9): ReLU(inplace=True)\n",
      "        (10): MaxPool2d(kernel_size=(2, 1), stride=(2, 1), padding=0, dilation=1, ceil_mode=False)\n",
      "        (11): Conv2d(256, 512, kernel_size=(3, 3), stride=(1, 1), padding=(1, 1), bias=False)\n",
      "        (12): BatchNorm2d(512, eps=1e-05, momentum=0.1, affine=True, track_running_stats=True)\n",
      "        (13): ReLU(inplace=True)\n",
      "        (14): Conv2d(512, 512, kernel_size=(3, 3), stride=(1, 1), padding=(1, 1), bias=False)\n",
      "        (15): BatchNorm2d(512, eps=1e-05, momentum=0.1, affine=True, track_running_stats=True)\n",
      "        (16): ReLU(inplace=True)\n",
      "        (17): MaxPool2d(kernel_size=(2, 1), stride=(2, 1), padding=0, dilation=1, ceil_mode=False)\n",
      "        (18): Conv2d(512, 512, kernel_size=(2, 2), stride=(1, 1))\n",
      "        (19): ReLU(inplace=True)\n",
      "      )\n",
      "    )\n",
      "    (AdaptiveAvgPool): AdaptiveAvgPool2d(output_size=(None, 1))\n",
      "    (SequenceModeling): Sequential(\n",
      "      (0): BidirectionalLSTM(\n",
      "        (rnn): LSTM(512, 256, batch_first=True, bidirectional=True)\n",
      "        (linear): Linear(in_features=512, out_features=256, bias=True)\n",
      "      )\n",
      "      (1): BidirectionalLSTM(\n",
      "        (rnn): LSTM(256, 256, batch_first=True, bidirectional=True)\n",
      "        (linear): Linear(in_features=512, out_features=256, bias=True)\n",
      "      )\n",
      "    )\n",
      "    (Prediction): Linear(in_features=256, out_features=159, bias=True)\n",
      "  )\n",
      ")\n",
      "Trainable params num :  8482975\n",
      "Optimizer:\n",
      "Adadelta (\n",
      "Parameter Group 0\n",
      "    eps: 1e-08\n",
      "    lr: 1\n",
      "    rho: 0.95\n",
      "    weight_decay: 0\n",
      ")\n",
      "start training\n",
      "[1/300000] Train loss: 15.86203, Valid loss: 21.58984, Elapsed_time: 8.16836\n",
      "Current_accuracy : 20.000, Current_norm_ED  : 0.00\n",
      "Best_accuracy    : 20.000, Best_norm_ED     : 0.00\n",
      "--------------------------------------------------------------------------------\n",
      "\n",
      "Ground Truth              | Prediction                | Confidence Score & T/F\n",
      "\n",
      "--------------------------------------------------------------------------------\n",
      "\n"
     ]
    }
   ],
   "source": [
    "!python C:/Users/joman/Documents/GitHub/deep-text-recognition-benchmark/train.py \\\n",
    "--train_data C:/Users/joman/Desktop/easyocr/data_thaisingle_test/data_lmdb_release/training \\\n",
    "--valid_data C:/Users/joman/Desktop/easyocr/data_thaisingle_test/data_lmdb_release/validation \\\n",
    "--select_data singlelinetemp \\\n",
    "--batch_ratio 1 \\\n",
    "--Transformation None \\\n",
    "--FeatureExtraction VGG \\\n",
    "--SequenceModeling BiLSTM \\\n",
    "--Prediction CTC \\\n",
    "--data_filtering_off"
   ]
  },
  {
   "cell_type": "code",
   "execution_count": null,
   "id": "8fc9ce59-785e-49c6-b696-cb31df6a3ce8",
   "metadata": {},
   "outputs": [],
   "source": []
  },
  {
   "cell_type": "code",
   "execution_count": null,
   "id": "5f0e0119-3929-4eae-80ab-2142b941385e",
   "metadata": {},
   "outputs": [],
   "source": []
  },
  {
   "cell_type": "code",
   "execution_count": null,
   "id": "211b37d5-6c81-46f3-ab28-497ad6029d94",
   "metadata": {},
   "outputs": [],
   "source": []
  },
  {
   "cell_type": "code",
   "execution_count": null,
   "id": "328b574f-27c7-4538-adfc-ce7cd2d6e64f",
   "metadata": {},
   "outputs": [],
   "source": []
  },
  {
   "cell_type": "markdown",
   "id": "e2bfb86b-fb3c-4bec-bd14-225c51c81b1f",
   "metadata": {},
   "source": [
    "## Getting gt_file for images"
   ]
  },
  {
   "cell_type": "code",
   "execution_count": 38,
   "id": "e49f3a70-13e8-4445-b87b-3ee59772d40f",
   "metadata": {},
   "outputs": [],
   "source": [
    "directory = 'C:\\\\Users\\\\joman\\\\Desktop\\\\easyocr\\\\data_english_test\\\\training\\\\eval'"
   ]
  },
  {
   "cell_type": "code",
   "execution_count": 39,
   "id": "ff937dc5-9be7-4faf-b9d3-42728aad4171",
   "metadata": {},
   "outputs": [],
   "source": [
    "#getting directory of every image\n",
    "import os\n",
    "\n",
    "def get_gt(directory):\n",
    "    file_paths = []  # List which will store all of the full filepaths.\n",
    "    with open('C:\\\\Users\\\\joman\\\\Desktop\\\\easyocr\\\\data_english_test\\\\training\\\\gt_train_eval.txt', 'w+', encoding=\"utf8\") as f:\n",
    "    # Walk the tree.\n",
    "        for root, directories, files in os.walk(directory):\n",
    "            for filename in files:\n",
    "                # Join the two strings in order to form the full filepath.\n",
    "                filepath = root+'\\\\'+filename\n",
    "                name = filename.split('_')[0]\n",
    "                if name.isalpha()==True:\n",
    "                    f.write(filepath)\n",
    "                    f.write('\\t')\n",
    "                    f.write(name)\n",
    "                    f.write('\\n')\n",
    "                else:\n",
    "                    os.remove(filepath)"
   ]
  },
  {
   "cell_type": "code",
   "execution_count": 40,
   "id": "14f94096-7758-403f-8953-1f055215e029",
   "metadata": {},
   "outputs": [],
   "source": [
    "get_gt(directory)"
   ]
  },
  {
   "cell_type": "code",
   "execution_count": null,
   "id": "fe7d255f-5e03-4978-bdb7-cfbdc655f374",
   "metadata": {},
   "outputs": [],
   "source": []
  }
 ],
 "metadata": {
  "interpreter": {
   "hash": "93bd7cc08095b7e626d5ca1e1e354a365a6296e87459e27bd8065728621e1225"
  },
  "kernelspec": {
   "display_name": "Python 3.9.7 64-bit ('ocr2': conda)",
   "name": "python3"
  },
  "language_info": {
   "codemirror_mode": {
    "name": "ipython",
    "version": 3
   },
   "file_extension": ".py",
   "mimetype": "text/x-python",
   "name": "python",
   "nbconvert_exporter": "python",
   "pygments_lexer": "ipython3",
   "version": "3.9.7"
  }
 },
 "nbformat": 4,
 "nbformat_minor": 5
}
